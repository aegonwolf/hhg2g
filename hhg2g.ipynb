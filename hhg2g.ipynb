{
 "cells": [
  {
   "cell_type": "markdown",
   "metadata": {},
   "source": [
    "# Commonalities among Fans of the Hitchhiker's Guide to the Galaxy"
   ]
  },
  {
   "cell_type": "code",
   "execution_count": 1,
   "metadata": {},
   "outputs": [],
   "source": [
    "from random import randint\n",
    "import pandas as pd\n",
    "import numpy as np\n",
    "import csv\n",
    "import matplotlib.pyplot as plt\n",
    "import scipy.stats as st\n",
    "from scipy.stats import chisquare, chi2_contingency\n",
    "from sklearn.cluster import KMeans\n",
    "from kmodes.kmodes import KModes\n",
    "import seaborn as sns\n",
    "from itertools import combinations\n",
    "from kmodes.kprototypes import KPrototypes\n",
    "from deepthought import to_float, prop_sem, test_statistic, get_wisdom, p_ztest"
   ]
  },
  {
   "cell_type": "markdown",
   "metadata": {},
   "source": [
    "I have preprocessed the data into seperate sheets ready to explore which are imported here. Nothing needs to be changed."
   ]
  },
  {
   "cell_type": "code",
   "execution_count": 2,
   "metadata": {},
   "outputs": [],
   "source": [
    "survey_data = pd.read_csv(\"responses cleaned final.csv\", index_col=0)\n",
    "influences = pd.read_csv(\"sorted_influence.csv\", index_col=0)\n",
    "aspects = pd.read_csv(\"aspectfinals.csv\", index_col=0)\n",
    "obtained = pd.read_csv(\"obtained.csv\", index_col=0)\n",
    "survey_data.columns = [\"current age\", \"country\", \"gender\", \"HHGG age\", \"obtained\", \"other obtained\", \"influence\", \"aspect\"]\n",
    "survey_data = survey_data.drop([\"obtained\", \"other obtained\"], axis=1)\n",
    "#work on a copy just to be safe\n",
    "sd = survey_data.copy()\n",
    "sd[\"current age\"] = sd[\"current age\"].apply(to_float)\n",
    "sd[\"HHGG age\"] = sd[\"HHGG age\"].apply(to_float)\n",
    "sd[\"year read\"] = 2019 - (sd[\"current age\"] - sd[\"HHGG age\"])"
   ]
  },
  {
   "cell_type": "markdown",
   "metadata": {},
   "source": [
    "## 2.3 First reading age\n",
    "\n",
    "Let's have a look at our population's numerical data. HHGG age stands for the age respondents were when they first read The Hitchhiker's Guide to the Galaxy. \n",
    "\n",
    "_see Computations/Descriptive Stats at  https://pandas.pydata.org/pandas-docs/stable/reference/frame.html for more neat built-in functions to describe our data_"
   ]
  },
  {
   "cell_type": "code",
   "execution_count": 3,
   "metadata": {},
   "outputs": [
    {
     "data": {
      "text/html": [
       "<div>\n",
       "<style scoped>\n",
       "    .dataframe tbody tr th:only-of-type {\n",
       "        vertical-align: middle;\n",
       "    }\n",
       "\n",
       "    .dataframe tbody tr th {\n",
       "        vertical-align: top;\n",
       "    }\n",
       "\n",
       "    .dataframe thead th {\n",
       "        text-align: right;\n",
       "    }\n",
       "</style>\n",
       "<table border=\"1\" class=\"dataframe\">\n",
       "  <thead>\n",
       "    <tr style=\"text-align: right;\">\n",
       "      <th></th>\n",
       "      <th>current age</th>\n",
       "      <th>HHGG age</th>\n",
       "      <th>year read</th>\n",
       "    </tr>\n",
       "  </thead>\n",
       "  <tbody>\n",
       "    <tr>\n",
       "      <th>count</th>\n",
       "      <td>595.000000</td>\n",
       "      <td>592.000000</td>\n",
       "      <td>591.000000</td>\n",
       "    </tr>\n",
       "    <tr>\n",
       "      <th>mean</th>\n",
       "      <td>29.515126</td>\n",
       "      <td>16.149493</td>\n",
       "      <td>2005.688663</td>\n",
       "    </tr>\n",
       "    <tr>\n",
       "      <th>std</th>\n",
       "      <td>9.828527</td>\n",
       "      <td>4.525080</td>\n",
       "      <td>9.997603</td>\n",
       "    </tr>\n",
       "    <tr>\n",
       "      <th>min</th>\n",
       "      <td>12.000000</td>\n",
       "      <td>5.000000</td>\n",
       "      <td>1981.000000</td>\n",
       "    </tr>\n",
       "    <tr>\n",
       "      <th>25%</th>\n",
       "      <td>22.000000</td>\n",
       "      <td>13.000000</td>\n",
       "      <td>1999.000000</td>\n",
       "    </tr>\n",
       "    <tr>\n",
       "      <th>50%</th>\n",
       "      <td>28.000000</td>\n",
       "      <td>15.000000</td>\n",
       "      <td>2007.000000</td>\n",
       "    </tr>\n",
       "    <tr>\n",
       "      <th>75%</th>\n",
       "      <td>36.000000</td>\n",
       "      <td>18.000000</td>\n",
       "      <td>2015.000000</td>\n",
       "    </tr>\n",
       "    <tr>\n",
       "      <th>max</th>\n",
       "      <td>78.000000</td>\n",
       "      <td>40.000000</td>\n",
       "      <td>2019.000000</td>\n",
       "    </tr>\n",
       "  </tbody>\n",
       "</table>\n",
       "</div>"
      ],
      "text/plain": [
       "       current age    HHGG age    year read\n",
       "count   595.000000  592.000000   591.000000\n",
       "mean     29.515126   16.149493  2005.688663\n",
       "std       9.828527    4.525080     9.997603\n",
       "min      12.000000    5.000000  1981.000000\n",
       "25%      22.000000   13.000000  1999.000000\n",
       "50%      28.000000   15.000000  2007.000000\n",
       "75%      36.000000   18.000000  2015.000000\n",
       "max      78.000000   40.000000  2019.000000"
      ]
     },
     "execution_count": 3,
     "metadata": {},
     "output_type": "execute_result"
    }
   ],
   "source": [
    "#to get an overview\n",
    "sd.describe()"
   ]
  },
  {
   "cell_type": "markdown",
   "metadata": {},
   "source": [
    "A closer look at the age distribution"
   ]
  },
  {
   "cell_type": "code",
   "execution_count": 4,
   "metadata": {},
   "outputs": [
    {
     "data": {
      "text/html": [
       "<div>\n",
       "<style scoped>\n",
       "    .dataframe tbody tr th:only-of-type {\n",
       "        vertical-align: middle;\n",
       "    }\n",
       "\n",
       "    .dataframe tbody tr th {\n",
       "        vertical-align: top;\n",
       "    }\n",
       "\n",
       "    .dataframe thead th {\n",
       "        text-align: right;\n",
       "    }\n",
       "</style>\n",
       "<table border=\"1\" class=\"dataframe\">\n",
       "  <thead>\n",
       "    <tr style=\"text-align: right;\">\n",
       "      <th></th>\n",
       "      <th>24.0</th>\n",
       "      <th>18.0</th>\n",
       "      <th>22.0</th>\n",
       "      <th>28.0</th>\n",
       "      <th>20.0</th>\n",
       "      <th>33.0</th>\n",
       "      <th>27.0</th>\n",
       "      <th>32.0</th>\n",
       "      <th>23.0</th>\n",
       "      <th>29.0</th>\n",
       "      <th>...</th>\n",
       "      <th>44.0</th>\n",
       "      <th>55.0</th>\n",
       "      <th>46.0</th>\n",
       "      <th>52.0</th>\n",
       "      <th>58.0</th>\n",
       "      <th>60.0</th>\n",
       "      <th>12.0</th>\n",
       "      <th>27.5</th>\n",
       "      <th>61.0</th>\n",
       "      <th>78.0</th>\n",
       "    </tr>\n",
       "  </thead>\n",
       "  <tbody>\n",
       "    <tr>\n",
       "      <th>current age</th>\n",
       "      <td>29</td>\n",
       "      <td>27</td>\n",
       "      <td>26</td>\n",
       "      <td>26</td>\n",
       "      <td>25</td>\n",
       "      <td>24</td>\n",
       "      <td>24</td>\n",
       "      <td>24</td>\n",
       "      <td>24</td>\n",
       "      <td>21</td>\n",
       "      <td>...</td>\n",
       "      <td>4</td>\n",
       "      <td>2</td>\n",
       "      <td>2</td>\n",
       "      <td>2</td>\n",
       "      <td>1</td>\n",
       "      <td>1</td>\n",
       "      <td>1</td>\n",
       "      <td>1</td>\n",
       "      <td>1</td>\n",
       "      <td>1</td>\n",
       "    </tr>\n",
       "  </tbody>\n",
       "</table>\n",
       "<p>1 rows × 47 columns</p>\n",
       "</div>"
      ],
      "text/plain": [
       "             24.0  18.0  22.0  28.0  20.0  33.0  27.0  32.0  23.0  29.0  ...  \\\n",
       "current age    29    27    26    26    25    24    24    24    24    21  ...   \n",
       "\n",
       "             44.0  55.0  46.0  52.0  58.0  60.0  12.0  27.5  61.0  78.0  \n",
       "current age     4     2     2     2     1     1     1     1     1     1  \n",
       "\n",
       "[1 rows x 47 columns]"
      ]
     },
     "execution_count": 4,
     "metadata": {},
     "output_type": "execute_result"
    }
   ],
   "source": [
    "#transpose for compactness remove the .T to see the full table\n",
    "pd.DataFrame(sd[\"current age\"].value_counts()).T"
   ]
  },
  {
   "cell_type": "code",
   "execution_count": 5,
   "metadata": {},
   "outputs": [
    {
     "data": {
      "text/html": [
       "<div>\n",
       "<style scoped>\n",
       "    .dataframe tbody tr th:only-of-type {\n",
       "        vertical-align: middle;\n",
       "    }\n",
       "\n",
       "    .dataframe tbody tr th {\n",
       "        vertical-align: top;\n",
       "    }\n",
       "\n",
       "    .dataframe thead th {\n",
       "        text-align: right;\n",
       "    }\n",
       "</style>\n",
       "<table border=\"1\" class=\"dataframe\">\n",
       "  <thead>\n",
       "    <tr style=\"text-align: right;\">\n",
       "      <th></th>\n",
       "      <th>16.0</th>\n",
       "      <th>14.0</th>\n",
       "      <th>12.0</th>\n",
       "      <th>13.0</th>\n",
       "      <th>15.0</th>\n",
       "      <th>17.0</th>\n",
       "      <th>18.0</th>\n",
       "      <th>20.0</th>\n",
       "      <th>19.0</th>\n",
       "      <th>11.0</th>\n",
       "      <th>...</th>\n",
       "      <th>30.0</th>\n",
       "      <th>18.5</th>\n",
       "      <th>37.0</th>\n",
       "      <th>11.5</th>\n",
       "      <th>5.0</th>\n",
       "      <th>27.5</th>\n",
       "      <th>33.0</th>\n",
       "      <th>20.5</th>\n",
       "      <th>35.0</th>\n",
       "      <th>40.0</th>\n",
       "    </tr>\n",
       "  </thead>\n",
       "  <tbody>\n",
       "    <tr>\n",
       "      <th>HHGG age</th>\n",
       "      <td>74</td>\n",
       "      <td>74</td>\n",
       "      <td>59</td>\n",
       "      <td>57</td>\n",
       "      <td>49</td>\n",
       "      <td>38</td>\n",
       "      <td>28</td>\n",
       "      <td>27</td>\n",
       "      <td>26</td>\n",
       "      <td>21</td>\n",
       "      <td>...</td>\n",
       "      <td>2</td>\n",
       "      <td>2</td>\n",
       "      <td>1</td>\n",
       "      <td>1</td>\n",
       "      <td>1</td>\n",
       "      <td>1</td>\n",
       "      <td>1</td>\n",
       "      <td>1</td>\n",
       "      <td>1</td>\n",
       "      <td>1</td>\n",
       "    </tr>\n",
       "  </tbody>\n",
       "</table>\n",
       "<p>1 rows × 37 columns</p>\n",
       "</div>"
      ],
      "text/plain": [
       "          16.0  14.0  12.0  13.0  15.0  17.0  18.0  20.0  19.0  11.0  ...  \\\n",
       "HHGG age    74    74    59    57    49    38    28    27    26    21  ...   \n",
       "\n",
       "          30.0  18.5  37.0  11.5  5.0   27.5  33.0  20.5  35.0  40.0  \n",
       "HHGG age     2     2     1     1     1     1     1     1     1     1  \n",
       "\n",
       "[1 rows x 37 columns]"
      ]
     },
     "execution_count": 5,
     "metadata": {},
     "output_type": "execute_result"
    }
   ],
   "source": [
    "#transpose for compactness remove the .T to see the full table\n",
    "pd.DataFrame(sd[\"HHGG age\"].value_counts()).T"
   ]
  },
  {
   "cell_type": "code",
   "execution_count": 6,
   "metadata": {},
   "outputs": [
    {
     "data": {
      "text/html": [
       "<div>\n",
       "<style scoped>\n",
       "    .dataframe tbody tr th:only-of-type {\n",
       "        vertical-align: middle;\n",
       "    }\n",
       "\n",
       "    .dataframe tbody tr th {\n",
       "        vertical-align: top;\n",
       "    }\n",
       "\n",
       "    .dataframe thead th {\n",
       "        text-align: right;\n",
       "    }\n",
       "</style>\n",
       "<table border=\"1\" class=\"dataframe\">\n",
       "  <thead>\n",
       "    <tr style=\"text-align: right;\">\n",
       "      <th></th>\n",
       "      <th>2017.0</th>\n",
       "      <th>2018.0</th>\n",
       "      <th>2016.0</th>\n",
       "      <th>2009.0</th>\n",
       "      <th>2015.0</th>\n",
       "      <th>2006.0</th>\n",
       "      <th>2014.0</th>\n",
       "      <th>2007.0</th>\n",
       "      <th>2005.0</th>\n",
       "      <th>2011.0</th>\n",
       "      <th>...</th>\n",
       "      <th>2005.5</th>\n",
       "      <th>2014.5</th>\n",
       "      <th>1982.5</th>\n",
       "      <th>1991.5</th>\n",
       "      <th>2002.5</th>\n",
       "      <th>1984.5</th>\n",
       "      <th>2011.5</th>\n",
       "      <th>1985.5</th>\n",
       "      <th>2010.5</th>\n",
       "      <th>2018.5</th>\n",
       "    </tr>\n",
       "  </thead>\n",
       "  <tbody>\n",
       "    <tr>\n",
       "      <th>year read</th>\n",
       "      <td>50</td>\n",
       "      <td>32</td>\n",
       "      <td>29</td>\n",
       "      <td>28</td>\n",
       "      <td>28</td>\n",
       "      <td>25</td>\n",
       "      <td>24</td>\n",
       "      <td>23</td>\n",
       "      <td>22</td>\n",
       "      <td>20</td>\n",
       "      <td>...</td>\n",
       "      <td>1</td>\n",
       "      <td>1</td>\n",
       "      <td>1</td>\n",
       "      <td>1</td>\n",
       "      <td>1</td>\n",
       "      <td>1</td>\n",
       "      <td>1</td>\n",
       "      <td>1</td>\n",
       "      <td>1</td>\n",
       "      <td>1</td>\n",
       "    </tr>\n",
       "  </tbody>\n",
       "</table>\n",
       "<p>1 rows × 55 columns</p>\n",
       "</div>"
      ],
      "text/plain": [
       "           2017.0  2018.0  2016.0  2009.0  2015.0  2006.0  2014.0  2007.0  \\\n",
       "year read      50      32      29      28      28      25      24      23   \n",
       "\n",
       "           2005.0  2011.0  ...  2005.5  2014.5  1982.5  1991.5  2002.5  \\\n",
       "year read      22      20  ...       1       1       1       1       1   \n",
       "\n",
       "           1984.5  2011.5  1985.5  2010.5  2018.5  \n",
       "year read       1       1       1       1       1  \n",
       "\n",
       "[1 rows x 55 columns]"
      ]
     },
     "execution_count": 6,
     "metadata": {},
     "output_type": "execute_result"
    }
   ],
   "source": [
    "#transpose for compactness remove the .T to see the full table\n",
    "pd.DataFrame(sd[\"year read\"].value_counts()).T"
   ]
  },
  {
   "cell_type": "markdown",
   "metadata": {},
   "source": [
    "Have a closer look by changing the minimum number of participants for in each age or year, alternatively use the tail and head arguments."
   ]
  },
  {
   "cell_type": "code",
   "execution_count": 7,
   "metadata": {},
   "outputs": [],
   "source": [
    "min_value = 25"
   ]
  },
  {
   "cell_type": "code",
   "execution_count": 8,
   "metadata": {},
   "outputs": [
    {
     "data": {
      "text/html": [
       "<div>\n",
       "<style scoped>\n",
       "    .dataframe tbody tr th:only-of-type {\n",
       "        vertical-align: middle;\n",
       "    }\n",
       "\n",
       "    .dataframe tbody tr th {\n",
       "        vertical-align: top;\n",
       "    }\n",
       "\n",
       "    .dataframe thead th {\n",
       "        text-align: right;\n",
       "    }\n",
       "</style>\n",
       "<table border=\"1\" class=\"dataframe\">\n",
       "  <thead>\n",
       "    <tr style=\"text-align: right;\">\n",
       "      <th></th>\n",
       "      <th>HHGG age</th>\n",
       "    </tr>\n",
       "  </thead>\n",
       "  <tbody>\n",
       "    <tr>\n",
       "      <th>16.0</th>\n",
       "      <td>74</td>\n",
       "    </tr>\n",
       "    <tr>\n",
       "      <th>14.0</th>\n",
       "      <td>74</td>\n",
       "    </tr>\n",
       "    <tr>\n",
       "      <th>12.0</th>\n",
       "      <td>59</td>\n",
       "    </tr>\n",
       "    <tr>\n",
       "      <th>13.0</th>\n",
       "      <td>57</td>\n",
       "    </tr>\n",
       "    <tr>\n",
       "      <th>15.0</th>\n",
       "      <td>49</td>\n",
       "    </tr>\n",
       "    <tr>\n",
       "      <th>17.0</th>\n",
       "      <td>38</td>\n",
       "    </tr>\n",
       "    <tr>\n",
       "      <th>18.0</th>\n",
       "      <td>28</td>\n",
       "    </tr>\n",
       "    <tr>\n",
       "      <th>20.0</th>\n",
       "      <td>27</td>\n",
       "    </tr>\n",
       "    <tr>\n",
       "      <th>19.0</th>\n",
       "      <td>26</td>\n",
       "    </tr>\n",
       "  </tbody>\n",
       "</table>\n",
       "</div>"
      ],
      "text/plain": [
       "      HHGG age\n",
       "16.0        74\n",
       "14.0        74\n",
       "12.0        59\n",
       "13.0        57\n",
       "15.0        49\n",
       "17.0        38\n",
       "18.0        28\n",
       "20.0        27\n",
       "19.0        26"
      ]
     },
     "execution_count": 8,
     "metadata": {},
     "output_type": "execute_result"
    }
   ],
   "source": [
    "pd.DataFrame(sd[\"HHGG age\"].value_counts())[sd[\"HHGG age\"].value_counts() > min_value]"
   ]
  },
  {
   "cell_type": "code",
   "execution_count": 9,
   "metadata": {},
   "outputs": [
    {
     "data": {
      "text/html": [
       "<div>\n",
       "<style scoped>\n",
       "    .dataframe tbody tr th:only-of-type {\n",
       "        vertical-align: middle;\n",
       "    }\n",
       "\n",
       "    .dataframe tbody tr th {\n",
       "        vertical-align: top;\n",
       "    }\n",
       "\n",
       "    .dataframe thead th {\n",
       "        text-align: right;\n",
       "    }\n",
       "</style>\n",
       "<table border=\"1\" class=\"dataframe\">\n",
       "  <thead>\n",
       "    <tr style=\"text-align: right;\">\n",
       "      <th></th>\n",
       "      <th>year read</th>\n",
       "    </tr>\n",
       "  </thead>\n",
       "  <tbody>\n",
       "    <tr>\n",
       "      <th>2017.0</th>\n",
       "      <td>50</td>\n",
       "    </tr>\n",
       "    <tr>\n",
       "      <th>2018.0</th>\n",
       "      <td>32</td>\n",
       "    </tr>\n",
       "    <tr>\n",
       "      <th>2016.0</th>\n",
       "      <td>29</td>\n",
       "    </tr>\n",
       "    <tr>\n",
       "      <th>2009.0</th>\n",
       "      <td>28</td>\n",
       "    </tr>\n",
       "    <tr>\n",
       "      <th>2015.0</th>\n",
       "      <td>28</td>\n",
       "    </tr>\n",
       "  </tbody>\n",
       "</table>\n",
       "</div>"
      ],
      "text/plain": [
       "        year read\n",
       "2017.0         50\n",
       "2018.0         32\n",
       "2016.0         29\n",
       "2009.0         28\n",
       "2015.0         28"
      ]
     },
     "execution_count": 9,
     "metadata": {},
     "output_type": "execute_result"
    }
   ],
   "source": [
    "pd.DataFrame(sd[\"year read\"].value_counts())[sd[\"year read\"].value_counts() > min_value]"
   ]
  },
  {
   "cell_type": "code",
   "execution_count": 10,
   "metadata": {},
   "outputs": [
    {
     "data": {
      "text/html": [
       "<div>\n",
       "<style scoped>\n",
       "    .dataframe tbody tr th:only-of-type {\n",
       "        vertical-align: middle;\n",
       "    }\n",
       "\n",
       "    .dataframe tbody tr th {\n",
       "        vertical-align: top;\n",
       "    }\n",
       "\n",
       "    .dataframe thead th {\n",
       "        text-align: right;\n",
       "    }\n",
       "</style>\n",
       "<table border=\"1\" class=\"dataframe\">\n",
       "  <thead>\n",
       "    <tr style=\"text-align: right;\">\n",
       "      <th></th>\n",
       "      <th>current age</th>\n",
       "    </tr>\n",
       "  </thead>\n",
       "  <tbody>\n",
       "    <tr>\n",
       "      <th>24.0</th>\n",
       "      <td>29</td>\n",
       "    </tr>\n",
       "    <tr>\n",
       "      <th>18.0</th>\n",
       "      <td>27</td>\n",
       "    </tr>\n",
       "    <tr>\n",
       "      <th>22.0</th>\n",
       "      <td>26</td>\n",
       "    </tr>\n",
       "    <tr>\n",
       "      <th>28.0</th>\n",
       "      <td>26</td>\n",
       "    </tr>\n",
       "  </tbody>\n",
       "</table>\n",
       "</div>"
      ],
      "text/plain": [
       "      current age\n",
       "24.0           29\n",
       "18.0           27\n",
       "22.0           26\n",
       "28.0           26"
      ]
     },
     "execution_count": 10,
     "metadata": {},
     "output_type": "execute_result"
    }
   ],
   "source": [
    "pd.DataFrame(sd[\"current age\"].value_counts())[sd[\"current age\"].value_counts() > min_value]"
   ]
  },
  {
   "cell_type": "code",
   "execution_count": 11,
   "metadata": {},
   "outputs": [],
   "source": [
    "# remove the \"#\" to unlock this cell, it will display the top 5 values for \"HHGG age\"\n",
    "#pd.DataFrame(sd[\"HHGG age\"].value_counts()).head(5)"
   ]
  },
  {
   "cell_type": "code",
   "execution_count": 12,
   "metadata": {},
   "outputs": [],
   "source": [
    "# remove the \"#\" to unlock this cell, it will display the lowest 5 values for \"HHGG age\"\n",
    "#pd.DataFrame(sd[\"HHGG age\"].value_counts()).tail(5)"
   ]
  },
  {
   "cell_type": "markdown",
   "metadata": {},
   "source": [
    "The following cells will display visualizations to help us understand our data better.\n",
    "I chose seaborns' distplot as I feel it represents the numerical distribution best.\n",
    "You can insert a cell and try out alternative plots with functions from seaborn (recommended) which uses matplotlib's plotting capabilities.\n",
    "https://seaborn.pydata.org/tutorial/distributions.html\n",
    "\n",
    "\n",
    "Or you can use matplotlib's functions (https://matplotlib.org/tutorials/introductory/pyplot.html) directly via sd.plot(\"function name\") https://pandas.pydata.org/pandas-docs/stable/reference/api/pandas.DataFrame.plot.html."
   ]
  },
  {
   "cell_type": "code",
   "execution_count": 13,
   "metadata": {},
   "outputs": [],
   "source": [
    "#setting the style for the following plots (find more options at https://seaborn.pydata.org/tutorial/aesthetics.html)\n",
    "sns.set_style('darkgrid')\n",
    "sns.set(rc={'figure.figsize':(11,8)})"
   ]
  },
  {
   "cell_type": "code",
   "execution_count": 14,
   "metadata": {},
   "outputs": [
    {
     "data": {
      "image/png": "[encoded data removed]",
      "text/plain": [
       "<Figure size 792x576 with 1 Axes>"
      ]
     },
     "metadata": {},
     "output_type": "display_data"
    },
    {
     "data": {
      "image/png": "[encoded data removed]",
      "text/plain": [
       "<Figure size 792x576 with 1 Axes>"
      ]
     },
     "metadata": {},
     "output_type": "display_data"
    },
    {
     "data": {
      "image/png": "[encoded data removed]",
      "text/plain": [
       "<Figure size 792x576 with 1 Axes>"
      ]
     },
     "metadata": {},
     "output_type": "display_data"
    }
   ],
   "source": [
    "fig = sns.distplot(sd[\"current age\"].dropna(), color='darkred')\n",
    "fig.set(xlabel=\"Age\", ylabel=\"Proportion\", title=\"Age\")\n",
    "plt.show()\n",
    "fig = sns.distplot(sd[\"HHGG age\"].dropna(), color='blue')\n",
    "fig.set(xlabel=\"First reading age\", ylabel=\"Proportion\", title=\"First reading age\")\n",
    "plt.show()\n",
    "fig = sns.distplot(sd[\"year read\"].dropna(), color='orange')\n",
    "fig.set(xlabel=\"Year when respondents read the book\", ylabel=\"Proportion\", title=\"Year when read\")\n",
    "plt.show()"
   ]
  },
  {
   "cell_type": "code",
   "execution_count": 15,
   "metadata": {},
   "outputs": [
    {
     "data": {
      "image/png": "[encoded data removed]",
      "text/plain": [
       "<Figure size 792x576 with 2 Axes>"
      ]
     },
     "metadata": {},
     "output_type": "display_data"
    }
   ],
   "source": [
    "fig = plt.figure()\n",
    "plot1 = fig.add_subplot(1,2,1)\n",
    "plot2 = fig.add_subplot(1,2,2)\n",
    "plot1.set_title(\"Current Age\")\n",
    "plot2.set_title(\"Age when read\")\n",
    "plot1.plot(sd[\"current age\"].value_counts(), 'o')\n",
    "plot2.plot(sd[\"HHGG age\"].value_counts(), 'o')\n",
    "plot1.set_xlabel('Age')\n",
    "plot1.set_ylabel(\"Number of participants\")\n",
    "plot2\n",
    "fig.tight_layout()"
   ]
  },
  {
   "cell_type": "code",
   "execution_count": 16,
   "metadata": {},
   "outputs": [
    {
     "data": {
      "image/png": "[encoded data removed]",
      "text/plain": [
       "<Figure size 792x576 with 1 Axes>"
      ]
     },
     "metadata": {},
     "output_type": "display_data"
    },
    {
     "data": {
      "image/png": "[encoded data removed]",
      "text/plain": [
       "<Figure size 792x576 with 1 Axes>"
      ]
     },
     "metadata": {},
     "output_type": "display_data"
    }
   ],
   "source": [
    "fig = sns.boxplot(x=\"HHGG age\", data=sd, notch=True, orient='h')\n",
    "fig.set(xlabel=\"First reading age\")\n",
    "plt.show()\n",
    "sns.set_style(\"darkgrid\")\n",
    "fig = sns.boxplot(x=\"HHGG age\", y=\"gender\", data=sd, notch=True)\n",
    "fig.set(xlabel=\"First reading age\", ylabel=\"Gender\")\n",
    "plt.show()"
   ]
  },
  {
   "cell_type": "markdown",
   "metadata": {},
   "source": [
    "## 2.4 How Fans obtained the book\n",
    "One of the paper's primary goals was to find out if we were more likely to receive this book as a gift. \n",
    "Let us, therefore, explore how fans obtained the book.\n",
    "\n",
    "We start by creating a new data frame that will provide us with some overview of the distribution and then visualizing it."
   ]
  },
  {
   "cell_type": "code",
   "execution_count": 28,
   "metadata": {},
   "outputs": [],
   "source": [
    "#for lack of a better name let's call our new df 'counts', feel free to change this\n",
    "counts = pd.DataFrame(obtained.obtained.value_counts())\n",
    "counts.columns = [\"count\"]\n",
    "counts[\"Percentage\"] = round(((counts[\"count\"] / counts[\"count\"].sum()) * 100), 2)\n",
    "proportions = counts[\"Percentage\"] / 100\n",
    "counts[\"Margin of Error in %\"] = round((prop_sem(proportions, 591)*1.96)*100,2)\n",
    "counts[\"way\"] = counts.index"
   ]
  },
  {
   "cell_type": "code",
   "execution_count": 27,
   "metadata": {},
   "outputs": [
    {
     "data": {
      "text/html": [
       "<div>\n",
       "<style scoped>\n",
       "    .dataframe tbody tr th:only-of-type {\n",
       "        vertical-align: middle;\n",
       "    }\n",
       "\n",
       "    .dataframe tbody tr th {\n",
       "        vertical-align: top;\n",
       "    }\n",
       "\n",
       "    .dataframe thead th {\n",
       "        text-align: right;\n",
       "    }\n",
       "</style>\n",
       "<table border=\"1\" class=\"dataframe\">\n",
       "  <thead>\n",
       "    <tr style=\"text-align: right;\">\n",
       "      <th></th>\n",
       "      <th>count</th>\n",
       "      <th>Percentage</th>\n",
       "      <th>Margin of Error in %</th>\n",
       "      <th>way</th>\n",
       "    </tr>\n",
       "  </thead>\n",
       "  <tbody>\n",
       "    <tr>\n",
       "      <th>Bought it for myself</th>\n",
       "      <td>267</td>\n",
       "      <td>45.18</td>\n",
       "      <td>4.01</td>\n",
       "      <td>Bought it for myself</td>\n",
       "    </tr>\n",
       "    <tr>\n",
       "      <th>Given to me as a gift</th>\n",
       "      <td>144</td>\n",
       "      <td>24.37</td>\n",
       "      <td>3.46</td>\n",
       "      <td>Given to me as a gift</td>\n",
       "    </tr>\n",
       "    <tr>\n",
       "      <th>Library</th>\n",
       "      <td>71</td>\n",
       "      <td>12.01</td>\n",
       "      <td>2.62</td>\n",
       "      <td>Library</td>\n",
       "    </tr>\n",
       "    <tr>\n",
       "      <th>Borrowed from Family</th>\n",
       "      <td>56</td>\n",
       "      <td>9.48</td>\n",
       "      <td>2.36</td>\n",
       "      <td>Borrowed from Family</td>\n",
       "    </tr>\n",
       "    <tr>\n",
       "      <th>Borrowed from friends</th>\n",
       "      <td>26</td>\n",
       "      <td>4.40</td>\n",
       "      <td>1.65</td>\n",
       "      <td>Borrowed from friends</td>\n",
       "    </tr>\n",
       "    <tr>\n",
       "      <th>Online Platform</th>\n",
       "      <td>6</td>\n",
       "      <td>1.02</td>\n",
       "      <td>0.81</td>\n",
       "      <td>Online Platform</td>\n",
       "    </tr>\n",
       "    <tr>\n",
       "      <th>Borrowed from Friends or Family</th>\n",
       "      <td>6</td>\n",
       "      <td>1.02</td>\n",
       "      <td>0.81</td>\n",
       "      <td>Borrowed from Friends or Family</td>\n",
       "    </tr>\n",
       "    <tr>\n",
       "      <th>Pirated</th>\n",
       "      <td>5</td>\n",
       "      <td>0.85</td>\n",
       "      <td>0.74</td>\n",
       "      <td>Pirated</td>\n",
       "    </tr>\n",
       "    <tr>\n",
       "      <th>Doesn't Remember</th>\n",
       "      <td>3</td>\n",
       "      <td>0.51</td>\n",
       "      <td>0.57</td>\n",
       "      <td>Doesn't Remember</td>\n",
       "    </tr>\n",
       "    <tr>\n",
       "      <th>No Answer</th>\n",
       "      <td>2</td>\n",
       "      <td>0.34</td>\n",
       "      <td>0.47</td>\n",
       "      <td>No Answer</td>\n",
       "    </tr>\n",
       "    <tr>\n",
       "      <th>School</th>\n",
       "      <td>2</td>\n",
       "      <td>0.34</td>\n",
       "      <td>0.47</td>\n",
       "      <td>School</td>\n",
       "    </tr>\n",
       "    <tr>\n",
       "      <th>Bought it in a bundle</th>\n",
       "      <td>2</td>\n",
       "      <td>0.34</td>\n",
       "      <td>0.47</td>\n",
       "      <td>Bought it in a bundle</td>\n",
       "    </tr>\n",
       "    <tr>\n",
       "      <th>Stolen</th>\n",
       "      <td>1</td>\n",
       "      <td>0.17</td>\n",
       "      <td>0.33</td>\n",
       "      <td>Stolen</td>\n",
       "    </tr>\n",
       "  </tbody>\n",
       "</table>\n",
       "</div>"
      ],
      "text/plain": [
       "                                 count  Percentage  Margin of Error in %  \\\n",
       "Bought it for myself               267       45.18                  4.01   \n",
       "Given to me as a gift              144       24.37                  3.46   \n",
       "Library                             71       12.01                  2.62   \n",
       "Borrowed from Family                56        9.48                  2.36   \n",
       "Borrowed from friends               26        4.40                  1.65   \n",
       "Online Platform                      6        1.02                  0.81   \n",
       "Borrowed from Friends or Family      6        1.02                  0.81   \n",
       "Pirated                              5        0.85                  0.74   \n",
       "Doesn't Remember                     3        0.51                  0.57   \n",
       "No Answer                            2        0.34                  0.47   \n",
       "School                               2        0.34                  0.47   \n",
       "Bought it in a bundle                2        0.34                  0.47   \n",
       "Stolen                               1        0.17                  0.33   \n",
       "\n",
       "                                                             way  \n",
       "Bought it for myself                        Bought it for myself  \n",
       "Given to me as a gift                      Given to me as a gift  \n",
       "Library                                                  Library  \n",
       "Borrowed from Family                        Borrowed from Family  \n",
       "Borrowed from friends                      Borrowed from friends  \n",
       "Online Platform                                  Online Platform  \n",
       "Borrowed from Friends or Family  Borrowed from Friends or Family  \n",
       "Pirated                                                  Pirated  \n",
       "Doesn't Remember                                Doesn't Remember  \n",
       "No Answer                                              No Answer  \n",
       "School                                                    School  \n",
       "Bought it in a bundle                      Bought it in a bundle  \n",
       "Stolen                                                    Stolen  "
      ]
     },
     "execution_count": 27,
     "metadata": {},
     "output_type": "execute_result"
    }
   ],
   "source": [
    "counts"
   ]
  },
  {
   "cell_type": "code",
   "execution_count": 25,
   "metadata": {},
   "outputs": [
    {
     "data": {
      "image/png": "[encoded data removed]",
      "text/plain": [
       "<Figure size 792x576 with 1 Axes>"
      ]
     },
     "metadata": {},
     "output_type": "display_data"
    }
   ],
   "source": [
    "plot = sns.barplot(x=\"way\", y=\"count\", data=counts)\n",
    "plot.set_xticklabels(plot.get_xticklabels(), rotation = 90)\n",
    "plot.set_ylabel(\"Number of Participants\")\n",
    "plot.set_xlabel(\"\")\n",
    "plt.tight_layout()"
   ]
  },
  {
   "cell_type": "code",
   "execution_count": null,
   "metadata": {},
   "outputs": [],
   "source": [
    "get_wisdom()"
   ]
  }
 ],
 "metadata": {
  "kernelspec": {
   "display_name": "Python 3",
   "language": "python",
   "name": "python3"
  },
  "language_info": {
   "codemirror_mode": {
    "name": "ipython",
    "version": 3
   },
   "file_extension": ".py",
   "mimetype": "text/x-python",
   "name": "python",
   "nbconvert_exporter": "python",
   "pygments_lexer": "ipython3",
   "version": "3.6.6"
  },
  "latex_metadata": {
   "affiliation": "Maturaarbeit 2019, Arbon, Subject: English, Social Sciences",
   "author": "Oliver Holl",
   "title": "The Hitchhiker's Guide to the Galaxy Fan Research"
  }
 },
 "nbformat": 4,
 "nbformat_minor": 2
}
