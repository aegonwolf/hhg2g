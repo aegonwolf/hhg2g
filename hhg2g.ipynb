{
 "cells": [
  {
   "cell_type": "markdown",
   "metadata": {},
   "source": [
    "# Commonalities among Fans of the Hitchhiker's Guide to the Galaxy"
   ]
  },
  {
   "cell_type": "code",
   "execution_count": 1,
   "metadata": {},
   "outputs": [],
   "source": [
    "from random import randint\n",
    "import pandas as pd\n",
    "import numpy as np\n",
    "import csv\n",
    "import matplotlib.pyplot as plt\n",
    "import scipy.stats as st\n",
    "from scipy.stats import chisquare, chi2_contingency\n",
    "from sklearn.cluster import KMeans\n",
    "from kmodes.kmodes import KModes\n",
    "import seaborn as sns\n",
    "from itertools import combinations\n",
    "from kmodes.kprototypes import KPrototypes\n",
    "from deepthought import to_float, prop_sem, test_statistic, get_wisdom, p_ztest"
   ]
  },
  {
   "cell_type": "markdown",
   "metadata": {},
   "source": [
    "I have preprocessed the data into seperate sheets ready to explore which are imported here. Nothing needs to be changed."
   ]
  },
  {
   "cell_type": "code",
   "execution_count": 2,
   "metadata": {},
   "outputs": [],
   "source": [
    "survey_data = pd.read_csv(\"responses cleaned final.csv\", index_col=0)\n",
    "influences = pd.read_csv(\"cleaned_influences.csv\", index_col=0)\n",
    "aspects = pd.read_csv(\"aspectfinals.csv\", index_col=0)\n",
    "obtained = pd.read_csv(\"obtained.csv\", index_col=0)\n",
    "survey_data.columns = [\"current age\", \"country\", \"gender\", \"HHGG age\", \"obtained\", \"other obtained\", \"influence\", \"aspect\"]\n",
    "survey_data = survey_data.drop([\"obtained\", \"other obtained\"], axis=1)\n",
    "#work on a copy just to be safe\n",
    "sd = survey_data.copy()\n",
    "sd[\"current age\"] = sd[\"current age\"].apply(to_float)\n",
    "sd[\"HHGG age\"] = sd[\"HHGG age\"].apply(to_float)\n",
    "sd[\"year read\"] = 2019 - (sd[\"current age\"] - sd[\"HHGG age\"])"
   ]
  },
  {
   "cell_type": "markdown",
   "metadata": {},
   "source": [
    "## 2.3 First reading age\n",
    "\n",
    "Let's have a look at our population's numerical data. HHGG age stands for the age respondents were when they first read The Hitchhiker's Guide to the Galaxy. \n",
    "\n",
    "_see Computations/Descriptive Stats at  https://pandas.pydata.org/pandas-docs/stable/reference/frame.html for more neat built-in functions to describe our data_"
   ]
  },
  {
   "cell_type": "code",
   "execution_count": 3,
   "metadata": {},
   "outputs": [
    {
     "data": {
      "text/html": [
       "<div>\n",
       "<style scoped>\n",
       "    .dataframe tbody tr th:only-of-type {\n",
       "        vertical-align: middle;\n",
       "    }\n",
       "\n",
       "    .dataframe tbody tr th {\n",
       "        vertical-align: top;\n",
       "    }\n",
       "\n",
       "    .dataframe thead th {\n",
       "        text-align: right;\n",
       "    }\n",
       "</style>\n",
       "<table border=\"1\" class=\"dataframe\">\n",
       "  <thead>\n",
       "    <tr style=\"text-align: right;\">\n",
       "      <th></th>\n",
       "      <th>current age</th>\n",
       "      <th>HHGG age</th>\n",
       "      <th>year read</th>\n",
       "    </tr>\n",
       "  </thead>\n",
       "  <tbody>\n",
       "    <tr>\n",
       "      <th>count</th>\n",
       "      <td>595.000000</td>\n",
       "      <td>592.000000</td>\n",
       "      <td>591.000000</td>\n",
       "    </tr>\n",
       "    <tr>\n",
       "      <th>mean</th>\n",
       "      <td>29.515126</td>\n",
       "      <td>16.149493</td>\n",
       "      <td>2005.688663</td>\n",
       "    </tr>\n",
       "    <tr>\n",
       "      <th>std</th>\n",
       "      <td>9.828527</td>\n",
       "      <td>4.525080</td>\n",
       "      <td>9.997603</td>\n",
       "    </tr>\n",
       "    <tr>\n",
       "      <th>min</th>\n",
       "      <td>12.000000</td>\n",
       "      <td>5.000000</td>\n",
       "      <td>1981.000000</td>\n",
       "    </tr>\n",
       "    <tr>\n",
       "      <th>25%</th>\n",
       "      <td>22.000000</td>\n",
       "      <td>13.000000</td>\n",
       "      <td>1999.000000</td>\n",
       "    </tr>\n",
       "    <tr>\n",
       "      <th>50%</th>\n",
       "      <td>28.000000</td>\n",
       "      <td>15.000000</td>\n",
       "      <td>2007.000000</td>\n",
       "    </tr>\n",
       "    <tr>\n",
       "      <th>75%</th>\n",
       "      <td>36.000000</td>\n",
       "      <td>18.000000</td>\n",
       "      <td>2015.000000</td>\n",
       "    </tr>\n",
       "    <tr>\n",
       "      <th>max</th>\n",
       "      <td>78.000000</td>\n",
       "      <td>40.000000</td>\n",
       "      <td>2019.000000</td>\n",
       "    </tr>\n",
       "  </tbody>\n",
       "</table>\n",
       "</div>"
      ],
      "text/plain": [
       "       current age    HHGG age    year read\n",
       "count   595.000000  592.000000   591.000000\n",
       "mean     29.515126   16.149493  2005.688663\n",
       "std       9.828527    4.525080     9.997603\n",
       "min      12.000000    5.000000  1981.000000\n",
       "25%      22.000000   13.000000  1999.000000\n",
       "50%      28.000000   15.000000  2007.000000\n",
       "75%      36.000000   18.000000  2015.000000\n",
       "max      78.000000   40.000000  2019.000000"
      ]
     },
     "execution_count": 3,
     "metadata": {},
     "output_type": "execute_result"
    }
   ],
   "source": [
    "#to get an overview\n",
    "sd.describe()"
   ]
  },
  {
   "cell_type": "markdown",
   "metadata": {},
   "source": [
    "A closer look at the age distribution"
   ]
  },
  {
   "cell_type": "code",
   "execution_count": 4,
   "metadata": {},
   "outputs": [
    {
     "data": {
      "text/html": [
       "<div>\n",
       "<style scoped>\n",
       "    .dataframe tbody tr th:only-of-type {\n",
       "        vertical-align: middle;\n",
       "    }\n",
       "\n",
       "    .dataframe tbody tr th {\n",
       "        vertical-align: top;\n",
       "    }\n",
       "\n",
       "    .dataframe thead th {\n",
       "        text-align: right;\n",
       "    }\n",
       "</style>\n",
       "<table border=\"1\" class=\"dataframe\">\n",
       "  <thead>\n",
       "    <tr style=\"text-align: right;\">\n",
       "      <th></th>\n",
       "      <th>24.0</th>\n",
       "      <th>18.0</th>\n",
       "      <th>22.0</th>\n",
       "      <th>28.0</th>\n",
       "      <th>20.0</th>\n",
       "      <th>33.0</th>\n",
       "      <th>27.0</th>\n",
       "      <th>32.0</th>\n",
       "      <th>23.0</th>\n",
       "      <th>29.0</th>\n",
       "      <th>...</th>\n",
       "      <th>44.0</th>\n",
       "      <th>55.0</th>\n",
       "      <th>46.0</th>\n",
       "      <th>52.0</th>\n",
       "      <th>58.0</th>\n",
       "      <th>60.0</th>\n",
       "      <th>12.0</th>\n",
       "      <th>27.5</th>\n",
       "      <th>61.0</th>\n",
       "      <th>78.0</th>\n",
       "    </tr>\n",
       "  </thead>\n",
       "  <tbody>\n",
       "    <tr>\n",
       "      <th>current age</th>\n",
       "      <td>29</td>\n",
       "      <td>27</td>\n",
       "      <td>26</td>\n",
       "      <td>26</td>\n",
       "      <td>25</td>\n",
       "      <td>24</td>\n",
       "      <td>24</td>\n",
       "      <td>24</td>\n",
       "      <td>24</td>\n",
       "      <td>21</td>\n",
       "      <td>...</td>\n",
       "      <td>4</td>\n",
       "      <td>2</td>\n",
       "      <td>2</td>\n",
       "      <td>2</td>\n",
       "      <td>1</td>\n",
       "      <td>1</td>\n",
       "      <td>1</td>\n",
       "      <td>1</td>\n",
       "      <td>1</td>\n",
       "      <td>1</td>\n",
       "    </tr>\n",
       "  </tbody>\n",
       "</table>\n",
       "<p>1 rows × 47 columns</p>\n",
       "</div>"
      ],
      "text/plain": [
       "             24.0  18.0  22.0  28.0  20.0  33.0  27.0  32.0  23.0  29.0  ...  \\\n",
       "current age    29    27    26    26    25    24    24    24    24    21  ...   \n",
       "\n",
       "             44.0  55.0  46.0  52.0  58.0  60.0  12.0  27.5  61.0  78.0  \n",
       "current age     4     2     2     2     1     1     1     1     1     1  \n",
       "\n",
       "[1 rows x 47 columns]"
      ]
     },
     "execution_count": 4,
     "metadata": {},
     "output_type": "execute_result"
    }
   ],
   "source": [
    "#transpose for compactness remove the .T to see the full table\n",
    "pd.DataFrame(sd[\"current age\"].value_counts()).T"
   ]
  },
  {
   "cell_type": "code",
   "execution_count": 5,
   "metadata": {},
   "outputs": [
    {
     "data": {
      "text/html": [
       "<div>\n",
       "<style scoped>\n",
       "    .dataframe tbody tr th:only-of-type {\n",
       "        vertical-align: middle;\n",
       "    }\n",
       "\n",
       "    .dataframe tbody tr th {\n",
       "        vertical-align: top;\n",
       "    }\n",
       "\n",
       "    .dataframe thead th {\n",
       "        text-align: right;\n",
       "    }\n",
       "</style>\n",
       "<table border=\"1\" class=\"dataframe\">\n",
       "  <thead>\n",
       "    <tr style=\"text-align: right;\">\n",
       "      <th></th>\n",
       "      <th>16.0</th>\n",
       "      <th>14.0</th>\n",
       "      <th>12.0</th>\n",
       "      <th>13.0</th>\n",
       "      <th>15.0</th>\n",
       "      <th>17.0</th>\n",
       "      <th>18.0</th>\n",
       "      <th>20.0</th>\n",
       "      <th>19.0</th>\n",
       "      <th>11.0</th>\n",
       "      <th>...</th>\n",
       "      <th>30.0</th>\n",
       "      <th>18.5</th>\n",
       "      <th>37.0</th>\n",
       "      <th>11.5</th>\n",
       "      <th>5.0</th>\n",
       "      <th>27.5</th>\n",
       "      <th>33.0</th>\n",
       "      <th>20.5</th>\n",
       "      <th>35.0</th>\n",
       "      <th>40.0</th>\n",
       "    </tr>\n",
       "  </thead>\n",
       "  <tbody>\n",
       "    <tr>\n",
       "      <th>HHGG age</th>\n",
       "      <td>74</td>\n",
       "      <td>74</td>\n",
       "      <td>59</td>\n",
       "      <td>57</td>\n",
       "      <td>49</td>\n",
       "      <td>38</td>\n",
       "      <td>28</td>\n",
       "      <td>27</td>\n",
       "      <td>26</td>\n",
       "      <td>21</td>\n",
       "      <td>...</td>\n",
       "      <td>2</td>\n",
       "      <td>2</td>\n",
       "      <td>1</td>\n",
       "      <td>1</td>\n",
       "      <td>1</td>\n",
       "      <td>1</td>\n",
       "      <td>1</td>\n",
       "      <td>1</td>\n",
       "      <td>1</td>\n",
       "      <td>1</td>\n",
       "    </tr>\n",
       "  </tbody>\n",
       "</table>\n",
       "<p>1 rows × 37 columns</p>\n",
       "</div>"
      ],
      "text/plain": [
       "          16.0  14.0  12.0  13.0  15.0  17.0  18.0  20.0  19.0  11.0  ...  \\\n",
       "HHGG age    74    74    59    57    49    38    28    27    26    21  ...   \n",
       "\n",
       "          30.0  18.5  37.0  11.5  5.0   27.5  33.0  20.5  35.0  40.0  \n",
       "HHGG age     2     2     1     1     1     1     1     1     1     1  \n",
       "\n",
       "[1 rows x 37 columns]"
      ]
     },
     "execution_count": 5,
     "metadata": {},
     "output_type": "execute_result"
    }
   ],
   "source": [
    "#transpose for compactness remove the .T to see the full table\n",
    "pd.DataFrame(sd[\"HHGG age\"].value_counts()).T"
   ]
  },
  {
   "cell_type": "code",
   "execution_count": 6,
   "metadata": {},
   "outputs": [
    {
     "data": {
      "text/html": [
       "<div>\n",
       "<style scoped>\n",
       "    .dataframe tbody tr th:only-of-type {\n",
       "        vertical-align: middle;\n",
       "    }\n",
       "\n",
       "    .dataframe tbody tr th {\n",
       "        vertical-align: top;\n",
       "    }\n",
       "\n",
       "    .dataframe thead th {\n",
       "        text-align: right;\n",
       "    }\n",
       "</style>\n",
       "<table border=\"1\" class=\"dataframe\">\n",
       "  <thead>\n",
       "    <tr style=\"text-align: right;\">\n",
       "      <th></th>\n",
       "      <th>2017.0</th>\n",
       "      <th>2018.0</th>\n",
       "      <th>2016.0</th>\n",
       "      <th>2009.0</th>\n",
       "      <th>2015.0</th>\n",
       "      <th>2006.0</th>\n",
       "      <th>2014.0</th>\n",
       "      <th>2007.0</th>\n",
       "      <th>2005.0</th>\n",
       "      <th>2011.0</th>\n",
       "      <th>...</th>\n",
       "      <th>2005.5</th>\n",
       "      <th>2014.5</th>\n",
       "      <th>1982.5</th>\n",
       "      <th>1991.5</th>\n",
       "      <th>2002.5</th>\n",
       "      <th>1984.5</th>\n",
       "      <th>2011.5</th>\n",
       "      <th>1985.5</th>\n",
       "      <th>2010.5</th>\n",
       "      <th>2018.5</th>\n",
       "    </tr>\n",
       "  </thead>\n",
       "  <tbody>\n",
       "    <tr>\n",
       "      <th>year read</th>\n",
       "      <td>50</td>\n",
       "      <td>32</td>\n",
       "      <td>29</td>\n",
       "      <td>28</td>\n",
       "      <td>28</td>\n",
       "      <td>25</td>\n",
       "      <td>24</td>\n",
       "      <td>23</td>\n",
       "      <td>22</td>\n",
       "      <td>20</td>\n",
       "      <td>...</td>\n",
       "      <td>1</td>\n",
       "      <td>1</td>\n",
       "      <td>1</td>\n",
       "      <td>1</td>\n",
       "      <td>1</td>\n",
       "      <td>1</td>\n",
       "      <td>1</td>\n",
       "      <td>1</td>\n",
       "      <td>1</td>\n",
       "      <td>1</td>\n",
       "    </tr>\n",
       "  </tbody>\n",
       "</table>\n",
       "<p>1 rows × 55 columns</p>\n",
       "</div>"
      ],
      "text/plain": [
       "           2017.0  2018.0  2016.0  2009.0  2015.0  2006.0  2014.0  2007.0  \\\n",
       "year read      50      32      29      28      28      25      24      23   \n",
       "\n",
       "           2005.0  2011.0  ...  2005.5  2014.5  1982.5  1991.5  2002.5  \\\n",
       "year read      22      20  ...       1       1       1       1       1   \n",
       "\n",
       "           1984.5  2011.5  1985.5  2010.5  2018.5  \n",
       "year read       1       1       1       1       1  \n",
       "\n",
       "[1 rows x 55 columns]"
      ]
     },
     "execution_count": 6,
     "metadata": {},
     "output_type": "execute_result"
    }
   ],
   "source": [
    "#transpose for compactness remove the .T to see the full table\n",
    "pd.DataFrame(sd[\"year read\"].value_counts()).T"
   ]
  },
  {
   "cell_type": "markdown",
   "metadata": {},
   "source": [
    "Have a closer look by changing the minimum number of participants for in each age or year, alternatively use the tail and head arguments."
   ]
  },
  {
   "cell_type": "code",
   "execution_count": 7,
   "metadata": {},
   "outputs": [],
   "source": [
    "min_value = 25"
   ]
  },
  {
   "cell_type": "code",
   "execution_count": 8,
   "metadata": {},
   "outputs": [
    {
     "data": {
      "text/html": [
       "<div>\n",
       "<style scoped>\n",
       "    .dataframe tbody tr th:only-of-type {\n",
       "        vertical-align: middle;\n",
       "    }\n",
       "\n",
       "    .dataframe tbody tr th {\n",
       "        vertical-align: top;\n",
       "    }\n",
       "\n",
       "    .dataframe thead th {\n",
       "        text-align: right;\n",
       "    }\n",
       "</style>\n",
       "<table border=\"1\" class=\"dataframe\">\n",
       "  <thead>\n",
       "    <tr style=\"text-align: right;\">\n",
       "      <th></th>\n",
       "      <th>HHGG age</th>\n",
       "    </tr>\n",
       "  </thead>\n",
       "  <tbody>\n",
       "    <tr>\n",
       "      <th>16.0</th>\n",
       "      <td>74</td>\n",
       "    </tr>\n",
       "    <tr>\n",
       "      <th>14.0</th>\n",
       "      <td>74</td>\n",
       "    </tr>\n",
       "    <tr>\n",
       "      <th>12.0</th>\n",
       "      <td>59</td>\n",
       "    </tr>\n",
       "    <tr>\n",
       "      <th>13.0</th>\n",
       "      <td>57</td>\n",
       "    </tr>\n",
       "    <tr>\n",
       "      <th>15.0</th>\n",
       "      <td>49</td>\n",
       "    </tr>\n",
       "    <tr>\n",
       "      <th>17.0</th>\n",
       "      <td>38</td>\n",
       "    </tr>\n",
       "    <tr>\n",
       "      <th>18.0</th>\n",
       "      <td>28</td>\n",
       "    </tr>\n",
       "    <tr>\n",
       "      <th>20.0</th>\n",
       "      <td>27</td>\n",
       "    </tr>\n",
       "    <tr>\n",
       "      <th>19.0</th>\n",
       "      <td>26</td>\n",
       "    </tr>\n",
       "  </tbody>\n",
       "</table>\n",
       "</div>"
      ],
      "text/plain": [
       "      HHGG age\n",
       "16.0        74\n",
       "14.0        74\n",
       "12.0        59\n",
       "13.0        57\n",
       "15.0        49\n",
       "17.0        38\n",
       "18.0        28\n",
       "20.0        27\n",
       "19.0        26"
      ]
     },
     "execution_count": 8,
     "metadata": {},
     "output_type": "execute_result"
    }
   ],
   "source": [
    "pd.DataFrame(sd[\"HHGG age\"].value_counts())[sd[\"HHGG age\"].value_counts() > min_value]"
   ]
  },
  {
   "cell_type": "code",
   "execution_count": 9,
   "metadata": {},
   "outputs": [
    {
     "data": {
      "text/html": [
       "<div>\n",
       "<style scoped>\n",
       "    .dataframe tbody tr th:only-of-type {\n",
       "        vertical-align: middle;\n",
       "    }\n",
       "\n",
       "    .dataframe tbody tr th {\n",
       "        vertical-align: top;\n",
       "    }\n",
       "\n",
       "    .dataframe thead th {\n",
       "        text-align: right;\n",
       "    }\n",
       "</style>\n",
       "<table border=\"1\" class=\"dataframe\">\n",
       "  <thead>\n",
       "    <tr style=\"text-align: right;\">\n",
       "      <th></th>\n",
       "      <th>year read</th>\n",
       "    </tr>\n",
       "  </thead>\n",
       "  <tbody>\n",
       "    <tr>\n",
       "      <th>2017.0</th>\n",
       "      <td>50</td>\n",
       "    </tr>\n",
       "    <tr>\n",
       "      <th>2018.0</th>\n",
       "      <td>32</td>\n",
       "    </tr>\n",
       "    <tr>\n",
       "      <th>2016.0</th>\n",
       "      <td>29</td>\n",
       "    </tr>\n",
       "    <tr>\n",
       "      <th>2009.0</th>\n",
       "      <td>28</td>\n",
       "    </tr>\n",
       "    <tr>\n",
       "      <th>2015.0</th>\n",
       "      <td>28</td>\n",
       "    </tr>\n",
       "  </tbody>\n",
       "</table>\n",
       "</div>"
      ],
      "text/plain": [
       "        year read\n",
       "2017.0         50\n",
       "2018.0         32\n",
       "2016.0         29\n",
       "2009.0         28\n",
       "2015.0         28"
      ]
     },
     "execution_count": 9,
     "metadata": {},
     "output_type": "execute_result"
    }
   ],
   "source": [
    "pd.DataFrame(sd[\"year read\"].value_counts())[sd[\"year read\"].value_counts() > min_value]"
   ]
  },
  {
   "cell_type": "code",
   "execution_count": 10,
   "metadata": {},
   "outputs": [
    {
     "data": {
      "text/html": [
       "<div>\n",
       "<style scoped>\n",
       "    .dataframe tbody tr th:only-of-type {\n",
       "        vertical-align: middle;\n",
       "    }\n",
       "\n",
       "    .dataframe tbody tr th {\n",
       "        vertical-align: top;\n",
       "    }\n",
       "\n",
       "    .dataframe thead th {\n",
       "        text-align: right;\n",
       "    }\n",
       "</style>\n",
       "<table border=\"1\" class=\"dataframe\">\n",
       "  <thead>\n",
       "    <tr style=\"text-align: right;\">\n",
       "      <th></th>\n",
       "      <th>current age</th>\n",
       "    </tr>\n",
       "  </thead>\n",
       "  <tbody>\n",
       "    <tr>\n",
       "      <th>24.0</th>\n",
       "      <td>29</td>\n",
       "    </tr>\n",
       "    <tr>\n",
       "      <th>18.0</th>\n",
       "      <td>27</td>\n",
       "    </tr>\n",
       "    <tr>\n",
       "      <th>22.0</th>\n",
       "      <td>26</td>\n",
       "    </tr>\n",
       "    <tr>\n",
       "      <th>28.0</th>\n",
       "      <td>26</td>\n",
       "    </tr>\n",
       "  </tbody>\n",
       "</table>\n",
       "</div>"
      ],
      "text/plain": [
       "      current age\n",
       "24.0           29\n",
       "18.0           27\n",
       "22.0           26\n",
       "28.0           26"
      ]
     },
     "execution_count": 10,
     "metadata": {},
     "output_type": "execute_result"
    }
   ],
   "source": [
    "pd.DataFrame(sd[\"current age\"].value_counts())[sd[\"current age\"].value_counts() > min_value]"
   ]
  },
  {
   "cell_type": "code",
   "execution_count": 11,
   "metadata": {},
   "outputs": [],
   "source": [
    "# remove the \"#\" to unlock this cell, it will display the top 5 values for \"HHGG age\"\n",
    "#pd.DataFrame(sd[\"HHGG age\"].value_counts()).head(5)"
   ]
  },
  {
   "cell_type": "code",
   "execution_count": 12,
   "metadata": {},
   "outputs": [],
   "source": [
    "# remove the \"#\" to unlock this cell, it will display the lowest 5 values for \"HHGG age\"\n",
    "#pd.DataFrame(sd[\"HHGG age\"].value_counts()).tail(5)"
   ]
  },
  {
   "cell_type": "markdown",
   "metadata": {},
   "source": [
    "The following cells will display visualizations to help us understand our data better.\n",
    "I chose seaborns' distplot as I feel it represents the numerical distribution best.\n",
    "You can insert a cell and try out alternative plots with functions from seaborn (recommended) which uses matplotlib's plotting capabilities.\n",
    "https://seaborn.pydata.org/tutorial/distributions.html\n",
    "\n",
    "\n",
    "Or you can use matplotlib's functions (https://matplotlib.org/tutorials/introductory/pyplot.html) directly via sd.plot(\"function name\") https://pandas.pydata.org/pandas-docs/stable/reference/api/pandas.DataFrame.plot.html."
   ]
  },
  {
   "cell_type": "code",
   "execution_count": 13,
   "metadata": {},
   "outputs": [],
   "source": [
    "#setting the style for the following plots (find more options at https://seaborn.pydata.org/tutorial/aesthetics.html)\n",
    "sns.set_style('darkgrid')\n",
    "sns.set(rc={'figure.figsize':(11,8)})"
   ]
  },
  {
   "cell_type": "code",
   "execution_count": 14,
   "metadata": {},
   "outputs": [
    {
     "data": {
      "image/png": "[encoded data removed]",
      "text/plain": [
       "<Figure size 792x576 with 1 Axes>"
      ]
     },
     "metadata": {},
     "output_type": "display_data"
    },
    {
     "data": {
      "image/png": "[encoded data removed]",
      "text/plain": [
       "<Figure size 792x576 with 1 Axes>"
      ]
     },
     "metadata": {},
     "output_type": "display_data"
    },
    {
     "data": {
      "image/png": "[encoded data removed]",
      "text/plain": [
       "<Figure size 792x576 with 1 Axes>"
      ]
     },
     "metadata": {},
     "output_type": "display_data"
    }
   ],
   "source": [
    "fig = sns.distplot(sd[\"current age\"].dropna(), color='darkred')\n",
    "fig.set(xlabel=\"Age\", ylabel=\"Proportion\", title=\"Figure 2.3.1\")\n",
    "plt.show()\n",
    "fig = sns.distplot(sd[\"HHGG age\"].dropna(), color='blue')\n",
    "fig.set(xlabel=\"First reading age\", ylabel=\"Proportion\", title=\"Figure 2.3.1\")\n",
    "plt.show()\n",
    "year_read = pd.DataFrame(sd[\"year read\"].value_counts())\n",
    "year_read[\"year\"] = year_read.index.to_list()\n",
    "plt.bar(year_read[\"year\"], year_read[\"year read\"])\n",
    "plt.xlabel(\"year read\")\n",
    "plt.title(\"Figure 2.3.6\")\n",
    "plt.ylabel(\"Number of participants\")\n",
    "plt.show()"
   ]
  },
  {
   "cell_type": "code",
   "execution_count": 15,
   "metadata": {},
   "outputs": [
    {
     "data": {
      "image/png": "[encoded data removed]",
      "text/plain": [
       "<Figure size 792x576 with 2 Axes>"
      ]
     },
     "metadata": {},
     "output_type": "display_data"
    }
   ],
   "source": [
    "fig = plt.figure()\n",
    "plot1 = fig.add_subplot(1,2,1)\n",
    "plot2 = fig.add_subplot(1,2,2)\n",
    "plot1.set_title(\"Current Age\")\n",
    "plot2.set_title(\"Age when read\")\n",
    "plot1.plot(sd[\"current age\"].value_counts(), 'o')\n",
    "plot2.plot(sd[\"HHGG age\"].value_counts(), 'o')\n",
    "plot1.set_xlabel('Age')\n",
    "plot1.set_ylabel(\"Number of participants\")\n",
    "plot2\n",
    "fig.tight_layout()"
   ]
  },
  {
   "cell_type": "code",
   "execution_count": 16,
   "metadata": {},
   "outputs": [
    {
     "data": {
      "image/png": "[encoded data removed]",
      "text/plain": [
       "<Figure size 792x576 with 1 Axes>"
      ]
     },
     "metadata": {},
     "output_type": "display_data"
    },
    {
     "data": {
      "image/png": "[encoded data removed]",
      "text/plain": [
       "<Figure size 792x576 with 1 Axes>"
      ]
     },
     "metadata": {},
     "output_type": "display_data"
    }
   ],
   "source": [
    "fig = sns.boxplot(x=\"HHGG age\", data=sd, notch=True, orient='h')\n",
    "fig.set(xlabel=\"First reading age\", title=\"Figure 2.3.3\")\n",
    "plt.show()\n",
    "sns.set_style(\"darkgrid\")\n",
    "fig = sns.boxplot(x=\"HHGG age\", y=\"gender\", data=sd, notch=True)\n",
    "fig.set(xlabel=\"First reading age\", ylabel=\"Gender\", title=\"Figure 2.3.4\")\n",
    "plt.show()"
   ]
  },
  {
   "cell_type": "markdown",
   "metadata": {},
   "source": [
    "## 2.4 How Fans obtained the book\n",
    "One of the paper's primary goals was to find out if we were more likely to receive this book as a gift. \n",
    "Let us, therefore, explore how fans obtained the book.\n",
    "\n",
    "We start by creating a new data frame that will provide us with some overview of the distribution and then visualizing it."
   ]
  },
  {
   "cell_type": "code",
   "execution_count": 17,
   "metadata": {},
   "outputs": [],
   "source": [
    "#for lack of a better name let's call our new df 'counts', feel free to change this\n",
    "counts = pd.DataFrame(obtained.obtained.value_counts())\n",
    "counts.columns = [\"count\"]\n",
    "counts[\"Percentage\"] = round(((counts[\"count\"] / counts[\"count\"].sum()) * 100), 2)\n",
    "proportions = counts[\"Percentage\"] / 100\n",
    "counts[\"Margin of Error in %\"] = round((prop_sem(proportions, 591)*1.96)*100,2)\n",
    "counts[\"way\"] = counts.index"
   ]
  },
  {
   "cell_type": "code",
   "execution_count": 18,
   "metadata": {},
   "outputs": [
    {
     "data": {
      "text/html": [
       "<div>\n",
       "<style scoped>\n",
       "    .dataframe tbody tr th:only-of-type {\n",
       "        vertical-align: middle;\n",
       "    }\n",
       "\n",
       "    .dataframe tbody tr th {\n",
       "        vertical-align: top;\n",
       "    }\n",
       "\n",
       "    .dataframe thead th {\n",
       "        text-align: right;\n",
       "    }\n",
       "</style>\n",
       "<table border=\"1\" class=\"dataframe\">\n",
       "  <thead>\n",
       "    <tr style=\"text-align: right;\">\n",
       "      <th></th>\n",
       "      <th>count</th>\n",
       "      <th>Percentage</th>\n",
       "      <th>Margin of Error in %</th>\n",
       "      <th>way</th>\n",
       "    </tr>\n",
       "  </thead>\n",
       "  <tbody>\n",
       "    <tr>\n",
       "      <th>Bought it for myself</th>\n",
       "      <td>267</td>\n",
       "      <td>45.18</td>\n",
       "      <td>4.01</td>\n",
       "      <td>Bought it for myself</td>\n",
       "    </tr>\n",
       "    <tr>\n",
       "      <th>Given to me as a gift</th>\n",
       "      <td>144</td>\n",
       "      <td>24.37</td>\n",
       "      <td>3.46</td>\n",
       "      <td>Given to me as a gift</td>\n",
       "    </tr>\n",
       "    <tr>\n",
       "      <th>Library</th>\n",
       "      <td>71</td>\n",
       "      <td>12.01</td>\n",
       "      <td>2.62</td>\n",
       "      <td>Library</td>\n",
       "    </tr>\n",
       "    <tr>\n",
       "      <th>Borrowed from Family</th>\n",
       "      <td>56</td>\n",
       "      <td>9.48</td>\n",
       "      <td>2.36</td>\n",
       "      <td>Borrowed from Family</td>\n",
       "    </tr>\n",
       "    <tr>\n",
       "      <th>Borrowed from friends</th>\n",
       "      <td>26</td>\n",
       "      <td>4.40</td>\n",
       "      <td>1.65</td>\n",
       "      <td>Borrowed from friends</td>\n",
       "    </tr>\n",
       "    <tr>\n",
       "      <th>Online Platform</th>\n",
       "      <td>6</td>\n",
       "      <td>1.02</td>\n",
       "      <td>0.81</td>\n",
       "      <td>Online Platform</td>\n",
       "    </tr>\n",
       "    <tr>\n",
       "      <th>Borrowed from Friends or Family</th>\n",
       "      <td>6</td>\n",
       "      <td>1.02</td>\n",
       "      <td>0.81</td>\n",
       "      <td>Borrowed from Friends or Family</td>\n",
       "    </tr>\n",
       "    <tr>\n",
       "      <th>Pirated</th>\n",
       "      <td>5</td>\n",
       "      <td>0.85</td>\n",
       "      <td>0.74</td>\n",
       "      <td>Pirated</td>\n",
       "    </tr>\n",
       "    <tr>\n",
       "      <th>Doesn't Remember</th>\n",
       "      <td>3</td>\n",
       "      <td>0.51</td>\n",
       "      <td>0.57</td>\n",
       "      <td>Doesn't Remember</td>\n",
       "    </tr>\n",
       "    <tr>\n",
       "      <th>No Answer</th>\n",
       "      <td>2</td>\n",
       "      <td>0.34</td>\n",
       "      <td>0.47</td>\n",
       "      <td>No Answer</td>\n",
       "    </tr>\n",
       "    <tr>\n",
       "      <th>Bought it in a bundle</th>\n",
       "      <td>2</td>\n",
       "      <td>0.34</td>\n",
       "      <td>0.47</td>\n",
       "      <td>Bought it in a bundle</td>\n",
       "    </tr>\n",
       "    <tr>\n",
       "      <th>School</th>\n",
       "      <td>2</td>\n",
       "      <td>0.34</td>\n",
       "      <td>0.47</td>\n",
       "      <td>School</td>\n",
       "    </tr>\n",
       "    <tr>\n",
       "      <th>Stolen</th>\n",
       "      <td>1</td>\n",
       "      <td>0.17</td>\n",
       "      <td>0.33</td>\n",
       "      <td>Stolen</td>\n",
       "    </tr>\n",
       "  </tbody>\n",
       "</table>\n",
       "</div>"
      ],
      "text/plain": [
       "                                 count  Percentage  Margin of Error in %  \\\n",
       "Bought it for myself               267       45.18                  4.01   \n",
       "Given to me as a gift              144       24.37                  3.46   \n",
       "Library                             71       12.01                  2.62   \n",
       "Borrowed from Family                56        9.48                  2.36   \n",
       "Borrowed from friends               26        4.40                  1.65   \n",
       "Online Platform                      6        1.02                  0.81   \n",
       "Borrowed from Friends or Family      6        1.02                  0.81   \n",
       "Pirated                              5        0.85                  0.74   \n",
       "Doesn't Remember                     3        0.51                  0.57   \n",
       "No Answer                            2        0.34                  0.47   \n",
       "Bought it in a bundle                2        0.34                  0.47   \n",
       "School                               2        0.34                  0.47   \n",
       "Stolen                               1        0.17                  0.33   \n",
       "\n",
       "                                                             way  \n",
       "Bought it for myself                        Bought it for myself  \n",
       "Given to me as a gift                      Given to me as a gift  \n",
       "Library                                                  Library  \n",
       "Borrowed from Family                        Borrowed from Family  \n",
       "Borrowed from friends                      Borrowed from friends  \n",
       "Online Platform                                  Online Platform  \n",
       "Borrowed from Friends or Family  Borrowed from Friends or Family  \n",
       "Pirated                                                  Pirated  \n",
       "Doesn't Remember                                Doesn't Remember  \n",
       "No Answer                                              No Answer  \n",
       "Bought it in a bundle                      Bought it in a bundle  \n",
       "School                                                    School  \n",
       "Stolen                                                    Stolen  "
      ]
     },
     "execution_count": 18,
     "metadata": {},
     "output_type": "execute_result"
    }
   ],
   "source": [
    "counts\n",
    "#this is also Table 2.4.1 in the paper"
   ]
  },
  {
   "cell_type": "code",
   "execution_count": 19,
   "metadata": {},
   "outputs": [
    {
     "data": {
      "image/png": "[encoded data removed]",
      "text/plain": [
       "<Figure size 792x576 with 1 Axes>"
      ]
     },
     "metadata": {},
     "output_type": "display_data"
    }
   ],
   "source": [
    "plot = sns.barplot(x=\"way\", y=\"count\", data=counts)\n",
    "plot.set_xticklabels(plot.get_xticklabels(), rotation = 90)\n",
    "plot.set_ylabel(\"Number of Participants\")\n",
    "plot.set_xlabel(\"\")\n",
    "plt.title(\"Figure 2.4.1\")\n",
    "plt.tight_layout()\n",
    "plt.show()"
   ]
  },
  {
   "cell_type": "code",
   "execution_count": 20,
   "metadata": {},
   "outputs": [
    {
     "data": {
      "image/png": "[encoded data removed]",
      "text/plain": [
       "<Figure size 792x576 with 1 Axes>"
      ]
     },
     "metadata": {},
     "output_type": "display_data"
    }
   ],
   "source": [
    "#we group the categories with fewer than 10 counts to 'other' so we can display it in a nice pie chart\n",
    "piecount = counts[\"count\"][counts[\"count\"] >=70]\n",
    "#we have to correct for the double count of borrowed from friends or family see counts* above\n",
    "piecount.loc[\"other\"] = counts[\"count\"][counts[\"count\"] <10].sum() - 6\n",
    "piecount.loc[\"Borrowed from friends or family\"] = 88\n",
    "cmap = plt.get_cmap('Spectral')\n",
    "colors = [cmap(i) for i in np.linspace(0, 1, 8)]\n",
    "labels = piecount.index.to_list()\n",
    "plt.pie(piecount, autopct='%1.1f%%', labels=labels, colors=colors, startangle=90)\n",
    "plt.tight_layout()\n",
    "plt.axis('equal')\n",
    "plt.title(\"Figure 2.4.2\")\n",
    "plt.show()"
   ]
  },
  {
   "cell_type": "markdown",
   "metadata": {},
   "source": [
    "The following creates a data frame with which we'll be able to visualize differences between female and male fans.  The reason this is so messy is lack of foresight on my part during the assignment of the tags."
   ]
  },
  {
   "cell_type": "code",
   "execution_count": 21,
   "metadata": {},
   "outputs": [
    {
     "data": {
      "text/html": [
       "<div>\n",
       "<style scoped>\n",
       "    .dataframe tbody tr th:only-of-type {\n",
       "        vertical-align: middle;\n",
       "    }\n",
       "\n",
       "    .dataframe tbody tr th {\n",
       "        vertical-align: top;\n",
       "    }\n",
       "\n",
       "    .dataframe thead th {\n",
       "        text-align: right;\n",
       "    }\n",
       "</style>\n",
       "<table border=\"1\" class=\"dataframe\">\n",
       "  <thead>\n",
       "    <tr style=\"text-align: right;\">\n",
       "      <th></th>\n",
       "      <th>obtained</th>\n",
       "      <th>Gender</th>\n",
       "      <th>Value</th>\n",
       "    </tr>\n",
       "  </thead>\n",
       "  <tbody>\n",
       "    <tr>\n",
       "      <th>Bought it for myself</th>\n",
       "      <td>44.25</td>\n",
       "      <td>Men</td>\n",
       "      <td>Bought it for myself</td>\n",
       "    </tr>\n",
       "    <tr>\n",
       "      <th>Given to me as a gift</th>\n",
       "      <td>25.44</td>\n",
       "      <td>Men</td>\n",
       "      <td>Given to me as a gift</td>\n",
       "    </tr>\n",
       "    <tr>\n",
       "      <th>Library</th>\n",
       "      <td>12.17</td>\n",
       "      <td>Men</td>\n",
       "      <td>Library</td>\n",
       "    </tr>\n",
       "    <tr>\n",
       "      <th>Borrowed</th>\n",
       "      <td>13.94</td>\n",
       "      <td>Men</td>\n",
       "      <td>Borrowed</td>\n",
       "    </tr>\n",
       "    <tr>\n",
       "      <th>Bought it for myself</th>\n",
       "      <td>47.79</td>\n",
       "      <td>Women</td>\n",
       "      <td>Bought it for myself</td>\n",
       "    </tr>\n",
       "    <tr>\n",
       "      <th>Given to me as a gift</th>\n",
       "      <td>20.59</td>\n",
       "      <td>Women</td>\n",
       "      <td>Given to me as a gift</td>\n",
       "    </tr>\n",
       "    <tr>\n",
       "      <th>Library</th>\n",
       "      <td>11.03</td>\n",
       "      <td>Women</td>\n",
       "      <td>Library</td>\n",
       "    </tr>\n",
       "    <tr>\n",
       "      <th>Borrowed</th>\n",
       "      <td>17.65</td>\n",
       "      <td>Women</td>\n",
       "      <td>Borrowed</td>\n",
       "    </tr>\n",
       "  </tbody>\n",
       "</table>\n",
       "</div>"
      ],
      "text/plain": [
       "                       obtained Gender                  Value\n",
       "Bought it for myself      44.25    Men   Bought it for myself\n",
       "Given to me as a gift     25.44    Men  Given to me as a gift\n",
       "Library                   12.17    Men                Library\n",
       "Borrowed                  13.94    Men               Borrowed\n",
       "Bought it for myself      47.79  Women   Bought it for myself\n",
       "Given to me as a gift     20.59  Women  Given to me as a gift\n",
       "Library                   11.03  Women                Library\n",
       "Borrowed                  17.65  Women               Borrowed"
      ]
     },
     "execution_count": 21,
     "metadata": {},
     "output_type": "execute_result"
    }
   ],
   "source": [
    "men = obtained[\"obtained\"][survey_data[\"gender\"] == \"Male\"].value_counts()\n",
    "men.loc[\"Borrowed\"] = men.loc[\"Borrowed from Family\"] + men.loc[\"Borrowed from friends\"] + \\\n",
    "men.loc[\"Borrowed from Friends or Family\"]\n",
    "men = round((men / len(obtained[survey_data[\"gender\"] == \"Male\"]))*100, 2)\n",
    "women = obtained[\"obtained\"][survey_data[\"gender\"] == \"Female\"].value_counts()\n",
    "women[\"Borrowed\"] = women.loc[\"Borrowed from Family\"] + women.loc[\"Borrowed from friends\"] + \\\n",
    "women.loc[\"Borrowed from Friends or Family\"]\n",
    "women = round((women / len(obtained[survey_data[\"gender\"] == \"Female\"]))*100, 2)\n",
    "men = pd.DataFrame(men)\n",
    "men[\"Gender\"] = \"Men\"\n",
    "women = pd.DataFrame(women)\n",
    "women[\"Gender\"] = \"Women\"\n",
    "mw = pd.concat([men, women])\n",
    "mw[\"Value\"] = mw.index\n",
    "mw[mw[\"obtained\"] > 11]"
   ]
  },
  {
   "cell_type": "code",
   "execution_count": 85,
   "metadata": {},
   "outputs": [
    {
     "data": {
      "image/png": "[encoded data removed]",
      "text/plain": [
       "<Figure size 792x576 with 1 Axes>"
      ]
     },
     "metadata": {},
     "output_type": "display_data"
    }
   ],
   "source": [
    "plot = sns.barplot(x=\"Value\", y=\"obtained\", hue=\"Gender\", data=mw[mw[\"obtained\"] > 11])\n",
    "plot.set_ylabel(\"Percentage\")\n",
    "plot.set_xlabel(\"\")\n",
    "plt.title(\"Figure 2.7.1\")\n",
    "plt.tight_layout()\n",
    "plt.show()"
   ]
  },
  {
   "cell_type": "markdown",
   "metadata": {},
   "source": [
    "Are there connections between the ages when fans first read the book and the way they obtained it?"
   ]
  },
  {
   "cell_type": "code",
   "execution_count": 23,
   "metadata": {},
   "outputs": [
    {
     "data": {
      "image/png": "[encoded data removed]",
      "text/plain": [
       "<Figure size 792x792 with 4 Axes>"
      ]
     },
     "metadata": {},
     "output_type": "display_data"
    }
   ],
   "source": [
    "groupedbyage = obtained.groupby(\"obtained\")\n",
    "f, axes = plt.subplots(2, 2, figsize=(11, 11), sharex=True)\n",
    "sns.distplot(obtained[\"HHGG age\"][obtained.obtained==\"Given to me as a gift\"].dropna(),\n",
    "             label=\"Given to me as a gift\", ax=axes[0,0], color='blue', axlabel=\"Age when first read\")\n",
    "sns.distplot(obtained[\"HHGG age\"][obtained.obtained==\"Bought it for myself\"].dropna(),\n",
    "             label=\"Bought it for myself\", ax=axes[0,1], color='orange', axlabel=\"Age when first read\")\n",
    "sns.distplot(obtained[\"HHGG age\"][obtained.obtained==\"Library\"].dropna(),\n",
    "             label=\"Library\", ax=axes[1,0], color='red', axlabel=\"Age when first read\")\n",
    "sns.distplot(obtained[\"HHGG age\"][(obtained.obtained==\"Borrowed from Family\") | (obtained.obtained==\"Borrowed from friends\")].dropna(),\n",
    "             label=\"Borrowed\", ax=axes[1,1], color='green', axlabel=\"Age when first read\")\n",
    "f.legend(loc='upper left', ncol=2)\n",
    "f.suptitle(\"Figure 2.3.5\")\n",
    "plt.show()"
   ]
  },
  {
   "cell_type": "markdown",
   "metadata": {},
   "source": [
    "Let us now compare these proportions with the average American reader.\n",
    "48 % of Americans have bought the last book they read, 24% borrowed it from friends or family, 14% got it at the library, and 13% received it by other means, such as a gift. (The Rise of E-Reading, PEW Research (2012), https://www.pewinternet.org/2012/04/04/part-5-where-and-how-readers-get-their-books/, [April 5, 2019])\n",
    "\n",
    "To get meaningful results, we will compare our whole population and also only the American participants of our survey."
   ]
  },
  {
   "cell_type": "markdown",
   "metadata": {},
   "source": [
    "We begin by conducting a Chi-Squared Test to find out how well our observed frequencies fit the general population."
   ]
  },
  {
   "cell_type": "code",
   "execution_count": 24,
   "metadata": {},
   "outputs": [],
   "source": [
    "usobtained = obtained[sd[\"country\"] == \"United States\"]\n",
    "uscounts = pd.DataFrame(usobtained.obtained.value_counts())\n",
    "uscounts[\"Percentage\"] = round(((uscounts[\"obtained\"] / uscounts[\"obtained\"].sum())*100), 2)\n",
    "uscounts[\"way\"] = uscounts.index.tolist()\n",
    "uscounts[\"Proportion\"] = uscounts[\"obtained\"] / uscounts[\"obtained\"].sum()"
   ]
  },
  {
   "cell_type": "code",
   "execution_count": 25,
   "metadata": {},
   "outputs": [
    {
     "name": "stdout",
     "output_type": "stream",
     "text": [
      "A Goodness of Fit Test with our US-Participants results in a test statistic of: 16.609657794676803 and a P-Value of: 0.0002473196576934059\n"
     ]
    }
   ],
   "source": [
    "#for us participants\n",
    "us_borrowed = uscounts.loc[\"Borrowed from Family\"].obtained + uscounts.loc[\"Borrowed from friends\"].obtained + \\\n",
    "uscounts.loc[\"Borrowed from Friends or Family\"].obtained\n",
    "observed = [uscounts.loc[\"Bought it for myself\"].obtained, us_borrowed, uscounts.loc[\"Library\"].obtained]\n",
    "expected = [uscounts.obtained.sum()*0.48,uscounts.obtained.sum()*0.24,uscounts.obtained.sum()*0.14]\n",
    "tstat, pval = chisquare(observed, expected)\n",
    "print(\"A Goodness of Fit Test \\\n",
    "with our US-Participants results in a test statistic of: {} and a P-Value of: {}\".format(tstat, pval))"
   ]
  },
  {
   "cell_type": "code",
   "execution_count": 26,
   "metadata": {},
   "outputs": [
    {
     "name": "stdout",
     "output_type": "stream",
     "text": [
      "A Goodness of Fit Test with our whole population results in a test statistic of: 23.083281766175173 and a P-Value of: 9.716929513326031e-06\n"
     ]
    }
   ],
   "source": [
    "#for all participants\n",
    "all_borrowed = counts.loc[\"Borrowed from Family\"][\"count\"] + counts.loc[\"Borrowed from friends\"][\"count\"] + \\\n",
    "counts.loc[\"Borrowed from Friends or Family\"][\"count\"]\n",
    "observed = [counts.loc[\"Bought it for myself\"][\"count\"], all_borrowed, counts.loc[\"Library\"][\"count\"]]\n",
    "expected = [counts[\"count\"].sum()*0.48, counts[\"count\"].sum()*0.24,counts[\"count\"].sum()*0.14]\n",
    "tstat, pval = chisquare(observed, expected)\n",
    "print(\"A Goodness of Fit Test \\\n",
    "with our whole population results in a test statistic of: {} and a P-Value of: {}\".format(tstat, pval))"
   ]
  },
  {
   "cell_type": "markdown",
   "metadata": {},
   "source": [
    "Both P-Values of our Chi-squared Test results in P-Values of less than 0.0001 and can, therefore, be considered significant by any convention.\n",
    "These differences are unlikely to be the result of chance."
   ]
  },
  {
   "cell_type": "markdown",
   "metadata": {},
   "source": [
    "Next, let us find out which proportions caused our population to differ.\n",
    "Since the \"bought it\" and \"library\" groups are within the confidence intervals, we will only test the proportions of fans who received the book as a gift and who borrowed it for significance.\n",
    "In both cases, our Null-Hypothesis is, that there is no difference between our observed frequencies and the mean frequencies (proportions). \n",
    "Our Alternative Hypothesis is that there is a significant difference between the proportions of our population and the average proportions. "
   ]
  },
  {
   "cell_type": "code",
   "execution_count": 27,
   "metadata": {},
   "outputs": [],
   "source": [
    "usborr = uscounts.loc[\"Borrowed from Family\"][\"Proportion\"] \\\n",
    "+ uscounts.loc[\"Borrowed from friends\"][\"Proportion\"] + \\\n",
    "uscounts.loc[\"Borrowed from Friends or Family\"][\"Proportion\"]"
   ]
  },
  {
   "cell_type": "markdown",
   "metadata": {},
   "source": [
    "Is The Hitchhiker's Guide to the Galaxy less likely to have been borrowed?\n",
    "\n",
    "_please refer to deepthought.py to see how i implemented the proportion test for significance and verify my calculations_"
   ]
  },
  {
   "cell_type": "code",
   "execution_count": 28,
   "metadata": {},
   "outputs": [
    {
     "data": {
      "text/plain": [
       "'P-Value: 7.518054808707473e-08, Z = -5.122993830708142'"
      ]
     },
     "execution_count": 28,
     "metadata": {},
     "output_type": "execute_result"
    }
   ],
   "source": [
    "#all participants z-test for borrowed proportion\n",
    "p_ztest(0.15, 0.24, 591)"
   ]
  },
  {
   "cell_type": "code",
   "execution_count": 29,
   "metadata": {},
   "outputs": [
    {
     "data": {
      "text/plain": [
       "'P-Value: 1.7545710884869906e-06, Z = -4.493133236517919'"
      ]
     },
     "execution_count": 29,
     "metadata": {},
     "output_type": "execute_result"
    }
   ],
   "source": [
    "#us participants z-test for borrowed proportion\n",
    "p_ztest(usborr, 0.24, 263)"
   ]
  },
  {
   "cell_type": "markdown",
   "metadata": {},
   "source": [
    "P-Values of less than 0.000001 suggest so! We reject the Null in the first test and conclude that The Hitchhiker's Guide to the Galaxy is less likely to have been borrowed."
   ]
  },
  {
   "cell_type": "markdown",
   "metadata": {},
   "source": [
    "But, is the book then, more likely to have been received as a gift than other books?"
   ]
  },
  {
   "cell_type": "code",
   "execution_count": 30,
   "metadata": {},
   "outputs": [
    {
     "data": {
      "text/plain": [
       "'P-Value: 5.1270021783733515e-17, Z = 8.219074228105544'"
      ]
     },
     "execution_count": 30,
     "metadata": {},
     "output_type": "execute_result"
    }
   ],
   "source": [
    "# all participants z-test for gift proportion\n",
    "p_ztest(counts[\"Percentage\"].loc[\"Given to me as a gift\"]/100, 0.13, 591)"
   ]
  },
  {
   "cell_type": "code",
   "execution_count": 31,
   "metadata": {},
   "outputs": [
    {
     "data": {
      "text/plain": [
       "'P-Value: 8.532714384101841e-08, Z = 5.099079840838477'"
      ]
     },
     "execution_count": 31,
     "metadata": {},
     "output_type": "execute_result"
    }
   ],
   "source": [
    "# us participants z-test for gift proportion\n",
    "p_ztest(uscounts[\"Proportion\"].loc[\"Given to me as a gift\"], 0.13, 263)"
   ]
  },
  {
   "cell_type": "markdown",
   "metadata": {},
   "source": [
    "# 2.5 How the book has influenced respondents\n",
    "\n",
    "I was pleasantly surprised at the depth and variety of answers I received for the open-ended questions. \n",
    "The effort put forth by so many respondents made to give genuinely insightful answers moved me. I have learned so much more from these answers about my favorite book than any analysis I read. I did not expect anyone to think and give me more than 2,3-word answers. I was, I am humbled, and if it wasn't for the onions that I keep about my desk, one could have assumed I teared up.\n",
    "\n",
    "\n",
    "The aptly named function get_wisdom(), which you can call at any time, or refresh at your pleasure in the cell below shares answers from the last two questions at random. \n",
    "Each refresh provides answers from two different respondents.\n"
   ]
  },
  {
   "cell_type": "code",
   "execution_count": 43,
   "metadata": {},
   "outputs": [
    {
     "name": "stdout",
     "output_type": "stream",
     "text": [
      "Influence the book had on respondent 562: Taught me about  - Sarcasm.  - Human emotions and how people try to hide their insecurities / lack of knowledge. - How looking at authoritarian figures from an external viewpoint shows that people aren't being deliberately evil / sadistic, they are just being indifferent (which in itself is sad). As an example that would be both the vogons and Beeblebrox. With Trump being president, is this caricature really far fetched?  - being lucky is often about trying to be in the right place, so your life may be lucky - not entirely due to chance, but because you figuratively took your towel, your don't panic attitude and tried to do something.    \n",
      "\n",
      " \n",
      "Aspect respondent 276 found the most interesting: Don't Panic.\n"
     ]
    }
   ],
   "source": [
    "#engagin infinite probability drive...\n",
    "#threadmills engaged, quering the earth...\n",
    "get_wisdom()"
   ]
  },
  {
   "cell_type": "code",
   "execution_count": 38,
   "metadata": {},
   "outputs": [],
   "source": [
    "vc = influences[\"influence1\"].value_counts()\n",
    "vc = vc.add(influences[\"influence2\"].value_counts(), fill_value = 0)\n",
    "vc = vc.add(influences[\"influence3\"].value_counts(), fill_value = 0)\n",
    "vc = vc.add(influences[\"influence4\"].value_counts(), fill_value = 0)"
   ]
  },
  {
   "cell_type": "markdown",
   "metadata": {},
   "source": [
    "I apologize for the following mess once more — lack of foresight when tagging, led me here as well."
   ]
  },
  {
   "cell_type": "code",
   "execution_count": 33,
   "metadata": {},
   "outputs": [],
   "source": [
    "values = vc.index.to_list()\n",
    "cleaned = pd.Series(index = vc.index)\n",
    "cleaned = cleaned.fillna(0)\n",
    "for tag in values:  \n",
    "    for p in range(len(influences)):\n",
    "        tagged = False\n",
    "        for col in range(len(influences.columns.to_list())):\n",
    "            if tagged == False:\n",
    "                if influences.iloc[p, col] == tag:\n",
    "                    cleaned.loc[tag] += 1 \n",
    "                    tagged = True\n",
    "\n",
    "cleaned = cleaned.sort_values(ascending=False)\n",
    "vcdf = pd.DataFrame(cleaned[cleaned >= 2], columns=[\"count\"])\n",
    "vcdf[\"Influence\"] = vcdf.index.to_list()"
   ]
  },
  {
   "cell_type": "code",
   "execution_count": 34,
   "metadata": {},
   "outputs": [
    {
     "data": {
      "text/html": [
       "<div>\n",
       "<style scoped>\n",
       "    .dataframe tbody tr th:only-of-type {\n",
       "        vertical-align: middle;\n",
       "    }\n",
       "\n",
       "    .dataframe tbody tr th {\n",
       "        vertical-align: top;\n",
       "    }\n",
       "\n",
       "    .dataframe thead th {\n",
       "        text-align: right;\n",
       "    }\n",
       "</style>\n",
       "<table border=\"1\" class=\"dataframe\">\n",
       "  <thead>\n",
       "    <tr style=\"text-align: right;\">\n",
       "      <th></th>\n",
       "      <th>count</th>\n",
       "      <th>Influence</th>\n",
       "    </tr>\n",
       "  </thead>\n",
       "  <tbody>\n",
       "    <tr>\n",
       "      <th>changed perspective</th>\n",
       "      <td>145.0</td>\n",
       "      <td>changed perspective</td>\n",
       "    </tr>\n",
       "    <tr>\n",
       "      <th>enriched life through comedy</th>\n",
       "      <td>112.0</td>\n",
       "      <td>enriched life through comedy</td>\n",
       "    </tr>\n",
       "    <tr>\n",
       "      <th>Inspired new interests</th>\n",
       "      <td>102.0</td>\n",
       "      <td>Inspired new interests</td>\n",
       "    </tr>\n",
       "    <tr>\n",
       "      <th>References</th>\n",
       "      <td>81.0</td>\n",
       "      <td>References</td>\n",
       "    </tr>\n",
       "    <tr>\n",
       "      <th>appreciate the comedy or absurdity of life</th>\n",
       "      <td>75.0</td>\n",
       "      <td>appreciate the comedy or absurdity of life</td>\n",
       "    </tr>\n",
       "    <tr>\n",
       "      <th>influence on personality</th>\n",
       "      <td>71.0</td>\n",
       "      <td>influence on personality</td>\n",
       "    </tr>\n",
       "    <tr>\n",
       "      <th>Don't panic</th>\n",
       "      <td>58.0</td>\n",
       "      <td>Don't panic</td>\n",
       "    </tr>\n",
       "    <tr>\n",
       "      <th>Unsure or not much</th>\n",
       "      <td>53.0</td>\n",
       "      <td>Unsure or not much</td>\n",
       "    </tr>\n",
       "    <tr>\n",
       "      <th>enriched life or general positive influence</th>\n",
       "      <td>44.0</td>\n",
       "      <td>enriched life or general positive influence</td>\n",
       "    </tr>\n",
       "    <tr>\n",
       "      <th>don't take anything to seriously</th>\n",
       "      <td>39.0</td>\n",
       "      <td>don't take anything to seriously</td>\n",
       "    </tr>\n",
       "    <tr>\n",
       "      <th>provided comfort in hard times</th>\n",
       "      <td>39.0</td>\n",
       "      <td>provided comfort in hard times</td>\n",
       "    </tr>\n",
       "    <tr>\n",
       "      <th>big influence</th>\n",
       "      <td>35.0</td>\n",
       "      <td>big influence</td>\n",
       "    </tr>\n",
       "    <tr>\n",
       "      <th>influences career</th>\n",
       "      <td>34.0</td>\n",
       "      <td>influences career</td>\n",
       "    </tr>\n",
       "    <tr>\n",
       "      <th>feeling of community</th>\n",
       "      <td>34.0</td>\n",
       "      <td>feeling of community</td>\n",
       "    </tr>\n",
       "    <tr>\n",
       "      <th>42</th>\n",
       "      <td>29.0</td>\n",
       "      <td>42</td>\n",
       "    </tr>\n",
       "    <tr>\n",
       "      <th>carries a towel</th>\n",
       "      <td>25.0</td>\n",
       "      <td>carries a towel</td>\n",
       "    </tr>\n",
       "    <tr>\n",
       "      <th>entered fandom</th>\n",
       "      <td>16.0</td>\n",
       "      <td>entered fandom</td>\n",
       "    </tr>\n",
       "    <tr>\n",
       "      <th>Atheism</th>\n",
       "      <td>11.0</td>\n",
       "      <td>Atheism</td>\n",
       "    </tr>\n",
       "    <tr>\n",
       "      <th>tattoo</th>\n",
       "      <td>8.0</td>\n",
       "      <td>tattoo</td>\n",
       "    </tr>\n",
       "    <tr>\n",
       "      <th>influenced language</th>\n",
       "      <td>2.0</td>\n",
       "      <td>influenced language</td>\n",
       "    </tr>\n",
       "  </tbody>\n",
       "</table>\n",
       "</div>"
      ],
      "text/plain": [
       "                                             count  \\\n",
       "changed perspective                          145.0   \n",
       "enriched life through comedy                 112.0   \n",
       "Inspired new interests                       102.0   \n",
       "References                                    81.0   \n",
       "appreciate the comedy or absurdity of life    75.0   \n",
       "influence on personality                      71.0   \n",
       "Don't panic                                   58.0   \n",
       "Unsure or not much                            53.0   \n",
       "enriched life or general positive influence   44.0   \n",
       "don't take anything to seriously              39.0   \n",
       "provided comfort in hard times                39.0   \n",
       "big influence                                 35.0   \n",
       "influences career                             34.0   \n",
       "feeling of community                          34.0   \n",
       "42                                            29.0   \n",
       "carries a towel                               25.0   \n",
       "entered fandom                                16.0   \n",
       "Atheism                                       11.0   \n",
       "tattoo                                         8.0   \n",
       "influenced language                            2.0   \n",
       "\n",
       "                                                                               Influence  \n",
       "changed perspective                                                  changed perspective  \n",
       "enriched life through comedy                                enriched life through comedy  \n",
       "Inspired new interests                                            Inspired new interests  \n",
       "References                                                                    References  \n",
       "appreciate the comedy or absurdity of life    appreciate the comedy or absurdity of life  \n",
       "influence on personality                                        influence on personality  \n",
       "Don't panic                                                                  Don't panic  \n",
       "Unsure or not much                                                    Unsure or not much  \n",
       "enriched life or general positive influence  enriched life or general positive influence  \n",
       "don't take anything to seriously                        don't take anything to seriously  \n",
       "provided comfort in hard times                            provided comfort in hard times  \n",
       "big influence                                                              big influence  \n",
       "influences career                                                      influences career  \n",
       "feeling of community                                                feeling of community  \n",
       "42                                                                                    42  \n",
       "carries a towel                                                          carries a towel  \n",
       "entered fandom                                                            entered fandom  \n",
       "Atheism                                                                          Atheism  \n",
       "tattoo                                                                            tattoo  \n",
       "influenced language                                                  influenced language  "
      ]
     },
     "execution_count": 34,
     "metadata": {},
     "output_type": "execute_result"
    }
   ],
   "source": [
    "#Table 2.5.1\n",
    "vcdf"
   ]
  },
  {
   "cell_type": "code",
   "execution_count": 44,
   "metadata": {},
   "outputs": [
    {
     "data": {
      "image/png": "[encoded data removed]",
      "text/plain": [
       "<Figure size 792x576 with 1 Axes>"
      ]
     },
     "metadata": {},
     "output_type": "display_data"
    }
   ],
   "source": [
    "plot = sns.barplot(x=\"Influence\", y=\"count\", data=vcdf)\n",
    "plot.set_xticklabels(plot.get_xticklabels(), rotation = 90)\n",
    "plot.set_ylabel(\"Number of Participants\")\n",
    "plot.set_xlabel(\"\")\n",
    "plt.tight_layout()\n",
    "plt.title(\"Figure 2.5.1\")\n",
    "plt.show()"
   ]
  },
  {
   "cell_type": "markdown",
   "metadata": {},
   "source": [
    "# 2.6 Aspects of the book most important to participants"
   ]
  },
  {
   "cell_type": "code",
   "execution_count": 63,
   "metadata": {},
   "outputs": [],
   "source": [
    "aspects_all = aspects.tag1.value_counts() \n",
    "aspects_all = aspects_all.add(aspects.tag2.value_counts(), fill_value=0)\n",
    "aspects_all = aspects_all.add(aspects.tag3.value_counts(), fill_value=0)\n",
    "aspects_all = aspects_all.add(aspects.tag4.value_counts(), fill_value=0)"
   ]
  },
  {
   "cell_type": "code",
   "execution_count": 64,
   "metadata": {},
   "outputs": [],
   "source": [
    "aspects_all =pd.DataFrame(aspects_all.sort_values(ascending=False), columns=[\"Count\"])"
   ]
  },
  {
   "cell_type": "code",
   "execution_count": 69,
   "metadata": {},
   "outputs": [],
   "source": [
    "aspects_all[\"Percentage\"] = round((aspects_all[\"Count\"].sort_values(ascending=False) / len(sd))*100, 2)\n",
    "aspects_all[\"Aspect\"] = aspects_all.index"
   ]
  },
  {
   "cell_type": "markdown",
   "metadata": {},
   "source": [
    "Respondents answered this question much more succinctly. Many (55) used only a single word: Humor.\n",
    "That this was easy to answer clearly for many is meaningful too, to quote a random but eloquent Hitchhiker: \"It shows where fans' affections really lay.\""
   ]
  },
  {
   "cell_type": "code",
   "execution_count": 70,
   "metadata": {},
   "outputs": [
    {
     "data": {
      "text/html": [
       "<div>\n",
       "<style scoped>\n",
       "    .dataframe tbody tr th:only-of-type {\n",
       "        vertical-align: middle;\n",
       "    }\n",
       "\n",
       "    .dataframe tbody tr th {\n",
       "        vertical-align: top;\n",
       "    }\n",
       "\n",
       "    .dataframe thead th {\n",
       "        text-align: right;\n",
       "    }\n",
       "</style>\n",
       "<table border=\"1\" class=\"dataframe\">\n",
       "  <thead>\n",
       "    <tr style=\"text-align: right;\">\n",
       "      <th></th>\n",
       "      <th>Count</th>\n",
       "      <th>Percentage</th>\n",
       "      <th>Aspect</th>\n",
       "    </tr>\n",
       "  </thead>\n",
       "  <tbody>\n",
       "    <tr>\n",
       "      <th>Humor</th>\n",
       "      <td>209.0</td>\n",
       "      <td>35.07</td>\n",
       "      <td>Humor</td>\n",
       "    </tr>\n",
       "    <tr>\n",
       "      <th>writing style</th>\n",
       "      <td>130.0</td>\n",
       "      <td>21.81</td>\n",
       "      <td>writing style</td>\n",
       "    </tr>\n",
       "    <tr>\n",
       "      <th>absurdity</th>\n",
       "      <td>93.0</td>\n",
       "      <td>15.60</td>\n",
       "      <td>absurdity</td>\n",
       "    </tr>\n",
       "    <tr>\n",
       "      <th>philosophical meaning in the book</th>\n",
       "      <td>71.0</td>\n",
       "      <td>11.91</td>\n",
       "      <td>philosophical meaning in the book</td>\n",
       "    </tr>\n",
       "    <tr>\n",
       "      <th>new persepectives</th>\n",
       "      <td>64.0</td>\n",
       "      <td>10.74</td>\n",
       "      <td>new persepectives</td>\n",
       "    </tr>\n",
       "    <tr>\n",
       "      <th>insignificance, powerlessness and uncertainty</th>\n",
       "      <td>56.0</td>\n",
       "      <td>9.40</td>\n",
       "      <td>insignificance, powerlessness and uncertainty</td>\n",
       "    </tr>\n",
       "    <tr>\n",
       "      <th>Characters</th>\n",
       "      <td>42.0</td>\n",
       "      <td>7.05</td>\n",
       "      <td>Characters</td>\n",
       "    </tr>\n",
       "    <tr>\n",
       "      <th>relevance to real life</th>\n",
       "      <td>40.0</td>\n",
       "      <td>6.71</td>\n",
       "      <td>relevance to real life</td>\n",
       "    </tr>\n",
       "    <tr>\n",
       "      <th>Don't panic</th>\n",
       "      <td>36.0</td>\n",
       "      <td>6.04</td>\n",
       "      <td>Don't panic</td>\n",
       "    </tr>\n",
       "    <tr>\n",
       "      <th>sarcasm</th>\n",
       "      <td>30.0</td>\n",
       "      <td>5.03</td>\n",
       "      <td>sarcasm</td>\n",
       "    </tr>\n",
       "    <tr>\n",
       "      <th>dealing with challenges</th>\n",
       "      <td>24.0</td>\n",
       "      <td>4.03</td>\n",
       "      <td>dealing with challenges</td>\n",
       "    </tr>\n",
       "    <tr>\n",
       "      <th>optimism</th>\n",
       "      <td>22.0</td>\n",
       "      <td>3.69</td>\n",
       "      <td>optimism</td>\n",
       "    </tr>\n",
       "    <tr>\n",
       "      <th>view towards politics and religion</th>\n",
       "      <td>16.0</td>\n",
       "      <td>2.68</td>\n",
       "      <td>view towards politics and religion</td>\n",
       "    </tr>\n",
       "    <tr>\n",
       "      <th>nihilistic optimism</th>\n",
       "      <td>15.0</td>\n",
       "      <td>2.52</td>\n",
       "      <td>nihilistic optimism</td>\n",
       "    </tr>\n",
       "    <tr>\n",
       "      <th>42</th>\n",
       "      <td>13.0</td>\n",
       "      <td>2.18</td>\n",
       "      <td>42</td>\n",
       "    </tr>\n",
       "    <tr>\n",
       "      <th>specific passage</th>\n",
       "      <td>10.0</td>\n",
       "      <td>1.68</td>\n",
       "      <td>specific passage</td>\n",
       "    </tr>\n",
       "    <tr>\n",
       "      <th>Science Fiction</th>\n",
       "      <td>8.0</td>\n",
       "      <td>1.34</td>\n",
       "      <td>Science Fiction</td>\n",
       "    </tr>\n",
       "    <tr>\n",
       "      <th>adventure</th>\n",
       "      <td>7.0</td>\n",
       "      <td>1.17</td>\n",
       "      <td>adventure</td>\n",
       "    </tr>\n",
       "    <tr>\n",
       "      <th>Universe</th>\n",
       "      <td>5.0</td>\n",
       "      <td>0.84</td>\n",
       "      <td>Universe</td>\n",
       "    </tr>\n",
       "    <tr>\n",
       "      <th>All of it</th>\n",
       "      <td>5.0</td>\n",
       "      <td>0.84</td>\n",
       "      <td>All of it</td>\n",
       "    </tr>\n",
       "    <tr>\n",
       "      <th>Escape</th>\n",
       "      <td>2.0</td>\n",
       "      <td>0.34</td>\n",
       "      <td>Escape</td>\n",
       "    </tr>\n",
       "    <tr>\n",
       "      <th>It's made of paper</th>\n",
       "      <td>1.0</td>\n",
       "      <td>0.17</td>\n",
       "      <td>It's made of paper</td>\n",
       "    </tr>\n",
       "  </tbody>\n",
       "</table>\n",
       "</div>"
      ],
      "text/plain": [
       "                                               Count  Percentage  \\\n",
       "Humor                                          209.0       35.07   \n",
       "writing style                                  130.0       21.81   \n",
       "absurdity                                       93.0       15.60   \n",
       "philosophical meaning in the book               71.0       11.91   \n",
       "new persepectives                               64.0       10.74   \n",
       "insignificance, powerlessness and uncertainty   56.0        9.40   \n",
       "Characters                                      42.0        7.05   \n",
       "relevance to real life                          40.0        6.71   \n",
       "Don't panic                                     36.0        6.04   \n",
       "sarcasm                                         30.0        5.03   \n",
       "dealing with challenges                         24.0        4.03   \n",
       "optimism                                        22.0        3.69   \n",
       "view towards politics and religion              16.0        2.68   \n",
       "nihilistic optimism                             15.0        2.52   \n",
       "42                                              13.0        2.18   \n",
       "specific passage                                10.0        1.68   \n",
       "Science Fiction                                  8.0        1.34   \n",
       "adventure                                        7.0        1.17   \n",
       "Universe                                         5.0        0.84   \n",
       "All of it                                        5.0        0.84   \n",
       "Escape                                           2.0        0.34   \n",
       "It's made of paper                               1.0        0.17   \n",
       "\n",
       "                                                                                      Aspect  \n",
       "Humor                                                                                  Humor  \n",
       "writing style                                                                  writing style  \n",
       "absurdity                                                                          absurdity  \n",
       "philosophical meaning in the book                          philosophical meaning in the book  \n",
       "new persepectives                                                          new persepectives  \n",
       "insignificance, powerlessness and uncertainty  insignificance, powerlessness and uncertainty  \n",
       "Characters                                                                        Characters  \n",
       "relevance to real life                                                relevance to real life  \n",
       "Don't panic                                                                      Don't panic  \n",
       "sarcasm                                                                              sarcasm  \n",
       "dealing with challenges                                              dealing with challenges  \n",
       "optimism                                                                            optimism  \n",
       "view towards politics and religion                        view towards politics and religion  \n",
       "nihilistic optimism                                                      nihilistic optimism  \n",
       "42                                                                                        42  \n",
       "specific passage                                                            specific passage  \n",
       "Science Fiction                                                              Science Fiction  \n",
       "adventure                                                                          adventure  \n",
       "Universe                                                                            Universe  \n",
       "All of it                                                                          All of it  \n",
       "Escape                                                                                Escape  \n",
       "It's made of paper                                                        It's made of paper  "
      ]
     },
     "execution_count": 70,
     "metadata": {},
     "output_type": "execute_result"
    }
   ],
   "source": [
    "#Table 2.6.1\n",
    "aspects_all"
   ]
  },
  {
   "cell_type": "code",
   "execution_count": 73,
   "metadata": {},
   "outputs": [
    {
     "data": {
      "image/png": "[encoded data removed]",
      "text/plain": [
       "<Figure size 792x576 with 1 Axes>"
      ]
     },
     "metadata": {},
     "output_type": "display_data"
    }
   ],
   "source": [
    "plot = sns.barplot(x=\"Aspect\", y=\"Count\", data=aspects_all)\n",
    "plot.set_xticklabels(plot.get_xticklabels(), rotation = 90)\n",
    "plot.set_ylabel(\"Number of Participants\")\n",
    "plot.set_xlabel(\"\")\n",
    "plot.set_title(\"Figure 2.6.1\")\n",
    "plt.tight_layout()"
   ]
  },
  {
   "cell_type": "markdown",
   "metadata": {},
   "source": [
    "# 2.7 Difference between Male and Female Fans\n",
    "\n",
    "Spoiler: besides the obvious, there really isn't any differences between Men and Women.\n",
    "Male and female fans were likely to have read the book at the same age and obtained it through the same means. They shared the same influences and view of the most important aspects of the book. "
   ]
  },
  {
   "cell_type": "markdown",
   "metadata": {},
   "source": [
    "Let us start by examining the proportions of how men and women obtained the book, though they don't match exactly, the results are within the confidence intervals."
   ]
  },
  {
   "cell_type": "code",
   "execution_count": 80,
   "metadata": {},
   "outputs": [
    {
     "data": {
      "text/html": [
       "<div>\n",
       "<style scoped>\n",
       "    .dataframe tbody tr th:only-of-type {\n",
       "        vertical-align: middle;\n",
       "    }\n",
       "\n",
       "    .dataframe tbody tr th {\n",
       "        vertical-align: top;\n",
       "    }\n",
       "\n",
       "    .dataframe thead th {\n",
       "        text-align: right;\n",
       "    }\n",
       "</style>\n",
       "<table border=\"1\" class=\"dataframe\">\n",
       "  <thead>\n",
       "    <tr style=\"text-align: right;\">\n",
       "      <th></th>\n",
       "      <th>Percentage</th>\n",
       "      <th>Gender</th>\n",
       "    </tr>\n",
       "  </thead>\n",
       "  <tbody>\n",
       "    <tr>\n",
       "      <th>Bought it for myself</th>\n",
       "      <td>47.79</td>\n",
       "      <td>Women</td>\n",
       "    </tr>\n",
       "    <tr>\n",
       "      <th>Given to me as a gift</th>\n",
       "      <td>20.59</td>\n",
       "      <td>Women</td>\n",
       "    </tr>\n",
       "    <tr>\n",
       "      <th>Library</th>\n",
       "      <td>11.03</td>\n",
       "      <td>Women</td>\n",
       "    </tr>\n",
       "    <tr>\n",
       "      <th>Borrowed from Family</th>\n",
       "      <td>10.29</td>\n",
       "      <td>Women</td>\n",
       "    </tr>\n",
       "    <tr>\n",
       "      <th>Borrowed from friends</th>\n",
       "      <td>6.62</td>\n",
       "      <td>Women</td>\n",
       "    </tr>\n",
       "    <tr>\n",
       "      <th>Doesn't Remember</th>\n",
       "      <td>0.74</td>\n",
       "      <td>Women</td>\n",
       "    </tr>\n",
       "    <tr>\n",
       "      <th>Borrowed from Friends or Family</th>\n",
       "      <td>0.74</td>\n",
       "      <td>Women</td>\n",
       "    </tr>\n",
       "    <tr>\n",
       "      <th>Bought it in a bundle</th>\n",
       "      <td>0.74</td>\n",
       "      <td>Women</td>\n",
       "    </tr>\n",
       "    <tr>\n",
       "      <th>Online Platform</th>\n",
       "      <td>0.74</td>\n",
       "      <td>Women</td>\n",
       "    </tr>\n",
       "    <tr>\n",
       "      <th>School</th>\n",
       "      <td>0.74</td>\n",
       "      <td>Women</td>\n",
       "    </tr>\n",
       "    <tr>\n",
       "      <th>Borrowed</th>\n",
       "      <td>17.65</td>\n",
       "      <td>Women</td>\n",
       "    </tr>\n",
       "  </tbody>\n",
       "</table>\n",
       "</div>"
      ],
      "text/plain": [
       "                                 Percentage Gender\n",
       "Bought it for myself                  47.79  Women\n",
       "Given to me as a gift                 20.59  Women\n",
       "Library                               11.03  Women\n",
       "Borrowed from Family                  10.29  Women\n",
       "Borrowed from friends                  6.62  Women\n",
       "Doesn't Remember                       0.74  Women\n",
       "Borrowed from Friends or Family        0.74  Women\n",
       "Bought it in a bundle                  0.74  Women\n",
       "Online Platform                        0.74  Women\n",
       "School                                 0.74  Women\n",
       "Borrowed                              17.65  Women"
      ]
     },
     "execution_count": 80,
     "metadata": {},
     "output_type": "execute_result"
    }
   ],
   "source": [
    "women.columns = [\"Percentage\", \"Gender\"]\n",
    "women"
   ]
  },
  {
   "cell_type": "code",
   "execution_count": 81,
   "metadata": {},
   "outputs": [
    {
     "data": {
      "text/html": [
       "<div>\n",
       "<style scoped>\n",
       "    .dataframe tbody tr th:only-of-type {\n",
       "        vertical-align: middle;\n",
       "    }\n",
       "\n",
       "    .dataframe tbody tr th {\n",
       "        vertical-align: top;\n",
       "    }\n",
       "\n",
       "    .dataframe thead th {\n",
       "        text-align: right;\n",
       "    }\n",
       "</style>\n",
       "<table border=\"1\" class=\"dataframe\">\n",
       "  <thead>\n",
       "    <tr style=\"text-align: right;\">\n",
       "      <th></th>\n",
       "      <th>Percentage</th>\n",
       "      <th>Gender</th>\n",
       "    </tr>\n",
       "  </thead>\n",
       "  <tbody>\n",
       "    <tr>\n",
       "      <th>Bought it for myself</th>\n",
       "      <td>44.25</td>\n",
       "      <td>Men</td>\n",
       "    </tr>\n",
       "    <tr>\n",
       "      <th>Given to me as a gift</th>\n",
       "      <td>25.44</td>\n",
       "      <td>Men</td>\n",
       "    </tr>\n",
       "    <tr>\n",
       "      <th>Library</th>\n",
       "      <td>12.17</td>\n",
       "      <td>Men</td>\n",
       "    </tr>\n",
       "    <tr>\n",
       "      <th>Borrowed from Family</th>\n",
       "      <td>9.07</td>\n",
       "      <td>Men</td>\n",
       "    </tr>\n",
       "    <tr>\n",
       "      <th>Borrowed from friends</th>\n",
       "      <td>3.76</td>\n",
       "      <td>Men</td>\n",
       "    </tr>\n",
       "    <tr>\n",
       "      <th>Online Platform</th>\n",
       "      <td>1.11</td>\n",
       "      <td>Men</td>\n",
       "    </tr>\n",
       "    <tr>\n",
       "      <th>Borrowed from Friends or Family</th>\n",
       "      <td>1.11</td>\n",
       "      <td>Men</td>\n",
       "    </tr>\n",
       "    <tr>\n",
       "      <th>Pirated</th>\n",
       "      <td>0.88</td>\n",
       "      <td>Men</td>\n",
       "    </tr>\n",
       "    <tr>\n",
       "      <th>Doesn't Remember</th>\n",
       "      <td>0.44</td>\n",
       "      <td>Men</td>\n",
       "    </tr>\n",
       "    <tr>\n",
       "      <th>No Answer</th>\n",
       "      <td>0.22</td>\n",
       "      <td>Men</td>\n",
       "    </tr>\n",
       "    <tr>\n",
       "      <th>Bought it in a bundle</th>\n",
       "      <td>0.22</td>\n",
       "      <td>Men</td>\n",
       "    </tr>\n",
       "    <tr>\n",
       "      <th>School</th>\n",
       "      <td>0.22</td>\n",
       "      <td>Men</td>\n",
       "    </tr>\n",
       "    <tr>\n",
       "      <th>Borrowed</th>\n",
       "      <td>13.94</td>\n",
       "      <td>Men</td>\n",
       "    </tr>\n",
       "  </tbody>\n",
       "</table>\n",
       "</div>"
      ],
      "text/plain": [
       "                                 Percentage Gender\n",
       "Bought it for myself                  44.25    Men\n",
       "Given to me as a gift                 25.44    Men\n",
       "Library                               12.17    Men\n",
       "Borrowed from Family                   9.07    Men\n",
       "Borrowed from friends                  3.76    Men\n",
       "Online Platform                        1.11    Men\n",
       "Borrowed from Friends or Family        1.11    Men\n",
       "Pirated                                0.88    Men\n",
       "Doesn't Remember                       0.44    Men\n",
       "No Answer                              0.22    Men\n",
       "Bought it in a bundle                  0.22    Men\n",
       "School                                 0.22    Men\n",
       "Borrowed                              13.94    Men"
      ]
     },
     "execution_count": 81,
     "metadata": {},
     "output_type": "execute_result"
    }
   ],
   "source": [
    "men.columns = [\"Percentage\", \"Gender\"]\n",
    "men"
   ]
  },
  {
   "cell_type": "markdown",
   "metadata": {},
   "source": [
    "Let us test to be sure.\n",
    "The following formula (which I got from the book Staistics for dummies by Deborah Rumsey) is used:"
   ]
  },
  {
   "cell_type": "markdown",
   "metadata": {},
   "source": [
    "\\begin{equation*}\n",
    "   z= \\frac{\\widehat{p_{1} }  - \\widehat{p_{2} }}{ \\sqrt{ \\widehat{p}(1- \\widehat{p})( \\frac{1}{ n_{1} } +  \\frac{1}{ n_{2} })} } \n",
    "\\end{equation*}"
   ]
  },
  {
   "cell_type": "code",
   "execution_count": 91,
   "metadata": {},
   "outputs": [
    {
     "data": {
      "text/plain": [
       "0.24161073825503357"
      ]
     },
     "execution_count": 91,
     "metadata": {},
     "output_type": "execute_result"
    }
   ],
   "source": [
    "#creates a table proportions to be used in the formula which calculates the z-statistic\n",
    "obtprops = obtained.obtained.value_counts() / len(sd)"
   ]
  },
  {
   "cell_type": "code",
   "execution_count": 100,
   "metadata": {},
   "outputs": [
    {
     "name": "stdout",
     "output_type": "stream",
     "text": [
      "The test statistic: 1.159490728951004, the p-value: 0.28104317322991745\n"
     ]
    }
   ],
   "source": [
    "#Formula used from Rumsey, 2011 Statistics for Dummies, Comparing two population proportions\n",
    "pmen = obtained[\"obtained\"][sd[\"gender\"] == \"Male\"].value_counts() / len(obtained[sd[\"gender\"] == \"Male\"])\n",
    "pwomen = obtained[\"obtained\"][sd[\"gender\"] == \"Female\"].value_counts() / len(obtained[sd[\"gender\"] == \"Female\"])\n",
    "diff = pmen.loc[\"Given to me as a gift\"] - pwomen.loc[\"Given to me as a gift\"]\n",
    "popp = obtprops.loc[\"Given to me as a gift\"]*(1-obtprops.loc[\"Given to me as a gift\"])\n",
    "sinvs = (1/sd.gender.value_counts()[\"Male\"]) + (1/sd.gender.value_counts()[\"Female\"])\n",
    "sderror = np.sqrt( popp*sinvs )\n",
    "statistic = diff / sderror\n",
    "print(\"The test statistic: {}, the p-value: {}\".format(statistic, st.norm.sf(abs(statistic) / 2)))"
   ]
  },
  {
   "cell_type": "code",
   "execution_count": 101,
   "metadata": {},
   "outputs": [
    {
     "name": "stdout",
     "output_type": "stream",
     "text": [
      "The test statistic: -0.7291583257409221, the p-value: 0.357712785699862\n"
     ]
    }
   ],
   "source": [
    "pmen = obtained[\"obtained\"][sd[\"gender\"] == \"Male\"].value_counts() / len(obtained[sd[\"gender\"] == \"Male\"])\n",
    "pwomen = obtained[\"obtained\"][sd[\"gender\"] == \"Female\"].value_counts() / len(obtained[sd[\"gender\"] == \"Female\"])\n",
    "diff = pmen.loc[\"Bought it for myself\"] - pwomen.loc[\"Bought it for myself\"]\n",
    "popp = obtprops.loc[\"Bought it for myself\"]*(1-obtprops.loc[\"Bought it for myself\"])\n",
    "sinvs = (1/sd.gender.value_counts()[\"Male\"]) + (1/sd.gender.value_counts()[\"Female\"])\n",
    "sderror = np.sqrt( popp*sinvs )\n",
    "statistic = diff / sderror\n",
    "print(\"The test statistic: {}, the p-value: {}\".format(statistic, st.norm.sf(abs(statistic) / 2)))"
   ]
  },
  {
   "cell_type": "markdown",
   "metadata": {},
   "source": [
    "We discover that both statistics are firmly within the interval of chance. Feel free to try and test for other proportions, just change \"Bought it for myself\" above to \"Library\" or \"Borrowed from friends\"."
   ]
  },
  {
   "cell_type": "code",
   "execution_count": null,
   "metadata": {},
   "outputs": [],
   "source": [
    "plot = sns.barplot(x=\"Value\", y=\"obtained\", hue=\"Gender\", data=mw[mw[\"obtained\"] > 11])\n",
    "plot.set_ylabel(\"Percentage\")\n",
    "plot.set_xlabel(\"\")\n",
    "plt.title(\"Figure 2.7.1\")\n",
    "plt.tight_layout()\n",
    "plt.show()"
   ]
  },
  {
   "cell_type": "markdown",
   "metadata": {},
   "source": [
    "How about Age?"
   ]
  },
  {
   "cell_type": "code",
   "execution_count": 88,
   "metadata": {},
   "outputs": [
    {
     "data": {
      "text/html": [
       "<div>\n",
       "<style scoped>\n",
       "    .dataframe tbody tr th:only-of-type {\n",
       "        vertical-align: middle;\n",
       "    }\n",
       "\n",
       "    .dataframe tbody tr th {\n",
       "        vertical-align: top;\n",
       "    }\n",
       "\n",
       "    .dataframe thead th {\n",
       "        text-align: right;\n",
       "    }\n",
       "</style>\n",
       "<table border=\"1\" class=\"dataframe\">\n",
       "  <thead>\n",
       "    <tr style=\"text-align: right;\">\n",
       "      <th></th>\n",
       "      <th>current age</th>\n",
       "      <th>HHGG age</th>\n",
       "      <th>year read</th>\n",
       "    </tr>\n",
       "  </thead>\n",
       "  <tbody>\n",
       "    <tr>\n",
       "      <th>count</th>\n",
       "      <td>136.000000</td>\n",
       "      <td>134.000000</td>\n",
       "      <td>134.000000</td>\n",
       "    </tr>\n",
       "    <tr>\n",
       "      <th>mean</th>\n",
       "      <td>29.110294</td>\n",
       "      <td>16.727612</td>\n",
       "      <td>2006.951493</td>\n",
       "    </tr>\n",
       "    <tr>\n",
       "      <th>std</th>\n",
       "      <td>8.621827</td>\n",
       "      <td>4.599614</td>\n",
       "      <td>8.597707</td>\n",
       "    </tr>\n",
       "    <tr>\n",
       "      <th>min</th>\n",
       "      <td>14.000000</td>\n",
       "      <td>8.000000</td>\n",
       "      <td>1982.500000</td>\n",
       "    </tr>\n",
       "    <tr>\n",
       "      <th>25%</th>\n",
       "      <td>23.000000</td>\n",
       "      <td>14.000000</td>\n",
       "      <td>2002.000000</td>\n",
       "    </tr>\n",
       "    <tr>\n",
       "      <th>50%</th>\n",
       "      <td>27.000000</td>\n",
       "      <td>16.000000</td>\n",
       "      <td>2008.500000</td>\n",
       "    </tr>\n",
       "    <tr>\n",
       "      <th>75%</th>\n",
       "      <td>35.000000</td>\n",
       "      <td>19.000000</td>\n",
       "      <td>2014.000000</td>\n",
       "    </tr>\n",
       "    <tr>\n",
       "      <th>max</th>\n",
       "      <td>61.000000</td>\n",
       "      <td>29.000000</td>\n",
       "      <td>2019.000000</td>\n",
       "    </tr>\n",
       "  </tbody>\n",
       "</table>\n",
       "</div>"
      ],
      "text/plain": [
       "       current age    HHGG age    year read\n",
       "count   136.000000  134.000000   134.000000\n",
       "mean     29.110294   16.727612  2006.951493\n",
       "std       8.621827    4.599614     8.597707\n",
       "min      14.000000    8.000000  1982.500000\n",
       "25%      23.000000   14.000000  2002.000000\n",
       "50%      27.000000   16.000000  2008.500000\n",
       "75%      35.000000   19.000000  2014.000000\n",
       "max      61.000000   29.000000  2019.000000"
      ]
     },
     "execution_count": 88,
     "metadata": {},
     "output_type": "execute_result"
    }
   ],
   "source": [
    "#Female Respondents overview\n",
    "sd[sd[\"gender\"] == \"Female\"].describe()"
   ]
  },
  {
   "cell_type": "code",
   "execution_count": 89,
   "metadata": {},
   "outputs": [
    {
     "data": {
      "text/html": [
       "<div>\n",
       "<style scoped>\n",
       "    .dataframe tbody tr th:only-of-type {\n",
       "        vertical-align: middle;\n",
       "    }\n",
       "\n",
       "    .dataframe tbody tr th {\n",
       "        vertical-align: top;\n",
       "    }\n",
       "\n",
       "    .dataframe thead th {\n",
       "        text-align: right;\n",
       "    }\n",
       "</style>\n",
       "<table border=\"1\" class=\"dataframe\">\n",
       "  <thead>\n",
       "    <tr style=\"text-align: right;\">\n",
       "      <th></th>\n",
       "      <th>current age</th>\n",
       "      <th>HHGG age</th>\n",
       "      <th>year read</th>\n",
       "    </tr>\n",
       "  </thead>\n",
       "  <tbody>\n",
       "    <tr>\n",
       "      <th>count</th>\n",
       "      <td>451.000000</td>\n",
       "      <td>450.000000</td>\n",
       "      <td>449.000000</td>\n",
       "    </tr>\n",
       "    <tr>\n",
       "      <th>mean</th>\n",
       "      <td>29.609756</td>\n",
       "      <td>15.946667</td>\n",
       "      <td>2005.309577</td>\n",
       "    </tr>\n",
       "    <tr>\n",
       "      <th>std</th>\n",
       "      <td>9.927662</td>\n",
       "      <td>4.379981</td>\n",
       "      <td>10.320637</td>\n",
       "    </tr>\n",
       "    <tr>\n",
       "      <th>min</th>\n",
       "      <td>12.000000</td>\n",
       "      <td>5.000000</td>\n",
       "      <td>1981.000000</td>\n",
       "    </tr>\n",
       "    <tr>\n",
       "      <th>25%</th>\n",
       "      <td>21.000000</td>\n",
       "      <td>13.000000</td>\n",
       "      <td>1999.000000</td>\n",
       "    </tr>\n",
       "    <tr>\n",
       "      <th>50%</th>\n",
       "      <td>29.000000</td>\n",
       "      <td>15.000000</td>\n",
       "      <td>2007.000000</td>\n",
       "    </tr>\n",
       "    <tr>\n",
       "      <th>75%</th>\n",
       "      <td>37.000000</td>\n",
       "      <td>18.000000</td>\n",
       "      <td>2015.000000</td>\n",
       "    </tr>\n",
       "    <tr>\n",
       "      <th>max</th>\n",
       "      <td>58.000000</td>\n",
       "      <td>37.000000</td>\n",
       "      <td>2019.000000</td>\n",
       "    </tr>\n",
       "  </tbody>\n",
       "</table>\n",
       "</div>"
      ],
      "text/plain": [
       "       current age    HHGG age    year read\n",
       "count   451.000000  450.000000   449.000000\n",
       "mean     29.609756   15.946667  2005.309577\n",
       "std       9.927662    4.379981    10.320637\n",
       "min      12.000000    5.000000  1981.000000\n",
       "25%      21.000000   13.000000  1999.000000\n",
       "50%      29.000000   15.000000  2007.000000\n",
       "75%      37.000000   18.000000  2015.000000\n",
       "max      58.000000   37.000000  2019.000000"
      ]
     },
     "execution_count": 89,
     "metadata": {},
     "output_type": "execute_result"
    }
   ],
   "source": [
    "#Male Respondents overview\n",
    "sd[sd[\"gender\"] == \"Male\"].describe()"
   ]
  },
  {
   "cell_type": "markdown",
   "metadata": {},
   "source": [
    "Men seem to have read the book at an earlier age and year. The confidence intervals don't overlap, but, is it a significant difference or likely just chance?"
   ]
  },
  {
   "cell_type": "code",
   "execution_count": 102,
   "metadata": {},
   "outputs": [
    {
     "data": {
      "text/plain": [
       "'The test statistic is: -1.7550212874917694 , with 586 degrees of freedom'"
      ]
     },
     "execution_count": 102,
     "metadata": {},
     "output_type": "execute_result"
    }
   ],
   "source": [
    "test_statistic(sd[\"HHGG age\"][sd.gender == \"Male\"], sd[\"HHGG age\"][sd.gender == \"Female\"])"
   ]
  },
  {
   "cell_type": "markdown",
   "metadata": {},
   "source": [
    "A Test-Statistic of -1.755 yields a p-value of 0.079. Which is a smaller probability, but it is not significant."
   ]
  },
  {
   "cell_type": "markdown",
   "metadata": {},
   "source": [
    "# 2.8 Apparent Differences due to Geography\n",
    "\n",
    "We found no differences between men and women; what about geography and language?"
   ]
  },
  {
   "cell_type": "code",
   "execution_count": null,
   "metadata": {},
   "outputs": [],
   "source": []
  }
 ],
 "metadata": {
  "kernelspec": {
   "display_name": "Python 3",
   "language": "python",
   "name": "python3"
  },
  "language_info": {
   "codemirror_mode": {
    "name": "ipython",
    "version": 3
   },
   "file_extension": ".py",
   "mimetype": "text/x-python",
   "name": "python",
   "nbconvert_exporter": "python",
   "pygments_lexer": "ipython3",
   "version": "3.6.6"
  },
  "latex_metadata": {
   "affiliation": "Maturaarbeit 2019, Arbon, Subject: English, Social Sciences",
   "author": "Oliver Holl",
   "title": "The Hitchhiker's Guide to the Galaxy Fan Research"
  }
 },
 "nbformat": 4,
 "nbformat_minor": 2
}
